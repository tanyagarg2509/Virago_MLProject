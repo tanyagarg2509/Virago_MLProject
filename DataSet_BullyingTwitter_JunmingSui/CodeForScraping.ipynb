{
 "cells": [
  {
   "cell_type": "code",
   "execution_count": 16,
   "metadata": {},
   "outputs": [],
   "source": [
    "import tweepy\n",
    "import sys\n",
    "import json\n",
    "import codecs\n",
    "from tweepy.parsers import JSONParser\n",
    "\n",
    "\n",
    "consumer_key = 'IJBXd9Lxnwmdvtz3VqDyD2DHQ'\n",
    "consumer_secret = 'xGOwKsJxSbWZqcjR9cMAMuT59IiIrbfZ8gUWEnyG8Yqg7ZplzG'\n",
    "access_key = '1176413002599288832-yyjhFa386RpMJPkldvYQjviWTneYC4'\n",
    "access_secret = 'GfWOaYcTmhOYR1VT5LCTwB4Dfgr5Dd5CaP58x2y7fxAnz'\n",
    "\n",
    "inputFile = 'tweet_id.txt'\n",
    "outputFile = 'tweet.json'\n",
    "\n",
    "auth = tweepy.OAuthHandler(consumer_key, consumer_secret)\n",
    "auth.set_access_token(access_key, access_secret)\n",
    "api = tweepy.API(auth_handler=auth, parser=JSONParser())\n",
    "\n",
    "\n",
    "l=[]\n",
    "with open(inputFile, 'r') as inFile:\n",
    "\twith codecs.open(outputFile, 'w', encoding='utf8') as outFile:\n",
    "\t\tfor line in inFile.readlines():\n",
    "\t\t\tl.append(line.rstrip())\n",
    "\t\t\tif (len(l)>=99):\n",
    "\t\t\t\trst = api.statuses_lookup(id_=l)\n",
    "\t\t\t\tfor tweet in rst:\n",
    "\t\t\t\t\toutFile.write(json.dumps(tweet) + \"\\n\")\n",
    "\t\t\t\tl=[]\n",
    "\t\tif (len(l) > 0):\n",
    "\t\t\trst = api.statuses_lookup(id_=l)\n",
    "\t\t\tfor tweet in rst:\n",
    "\t\t\t\toutFile.write(json.dumps(tweet) + \"\\n\")\n"
   ]
  },
  {
   "cell_type": "code",
   "execution_count": 15,
   "metadata": {
    "scrolled": true
   },
   "outputs": [
    {
     "name": "stdout",
     "output_type": "stream",
     "text": [
      "#WebDevelopmentTricks \n",
      "document.designMode = 'on' \n",
      "Type this in your browser's console and you can edit the text by… https://t.co/3DqbvLlp56\n"
     ]
    }
   ],
   "source": [
    "#code for getting tweets by ID\n",
    "\"\"\"\n",
    "l = 1284384639604285442\n",
    "rst = api.get_status(l)\n",
    "print(rst['text'])\n",
    "\"\"\""
   ]
  },
  {
   "cell_type": "code",
   "execution_count": null,
   "metadata": {},
   "outputs": [],
   "source": []
  }
 ],
 "metadata": {
  "kernelspec": {
   "display_name": "Python 3",
   "language": "python",
   "name": "python3"
  },
  "language_info": {
   "codemirror_mode": {
    "name": "ipython",
    "version": 3
   },
   "file_extension": ".py",
   "mimetype": "text/x-python",
   "name": "python",
   "nbconvert_exporter": "python",
   "pygments_lexer": "ipython3",
   "version": "3.7.6"
  }
 },
 "nbformat": 4,
 "nbformat_minor": 4
}
