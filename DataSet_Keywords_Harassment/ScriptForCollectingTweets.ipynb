{
 "cells": [
  {
   "cell_type": "code",
   "execution_count": 29,
   "metadata": {},
   "outputs": [],
   "source": [
    "import tweepy\n",
    "import sys\n",
    "import json\n",
    "import codecs\n",
    "from tweepy.parsers import JSONParser\n",
    "import pandas as pd\n",
    "\n",
    "consumer_key = 'IJBXd9Lxnwmdvtz3VqDyD2DHQ'\n",
    "consumer_secret = 'xGOwKsJxSbWZqcjR9cMAMuT59IiIrbfZ8gUWEnyG8Yqg7ZplzG'\n",
    "access_key = '1176413002599288832-yyjhFa386RpMJPkldvYQjviWTneYC4'\n",
    "access_secret = 'GfWOaYcTmhOYR1VT5LCTwB4Dfgr5Dd5CaP58x2y7fxAnz'\n",
    "\n",
    "inputFile = 'tweet_id.txt'\n",
    "outputFile = 'tweet.json'\n",
    "\n",
    "auth = tweepy.OAuthHandler(consumer_key, consumer_secret)\n",
    "auth.set_access_token(access_key, access_secret)\n",
    "api = tweepy.API(auth, wait_on_rate_limit=True)"
   ]
  },
  {
   "cell_type": "code",
   "execution_count": 116,
   "metadata": {},
   "outputs": [],
   "source": [
    "tweets = []\n",
    "text_query = 'nookie'\n",
    "count = 500\n",
    "#from 257 count = 500\n",
    "# Pulling individual tweets from query\n",
    "for tweet in api.search(q=text_query, count=count):\n",
    "    # Adding to list that contains all tweets\n",
    "    tweets.append((tweet.created_at,tweet.id_str,tweet.text,tweet.entities,tweet.metadata))\n",
    "\n",
    "    \n",
    "df = pd.DataFrame(tweets) \n",
    "df.to_csv('nookie.csv')\n",
    "\n",
    "df.rename(columns={0:'Date_Created',1:'Tweet_ID',2:'Tweet_Text',3:'Tweet_Entities',4:'Tweet_Metadata'},inplace=True)\n",
    "\n",
    "#done till 318 nookie"
   ]
  },
  {
   "cell_type": "code",
   "execution_count": null,
   "metadata": {},
   "outputs": [],
   "source": []
  }
 ],
 "metadata": {
  "kernelspec": {
   "display_name": "Python 3",
   "language": "python",
   "name": "python3"
  },
  "language_info": {
   "codemirror_mode": {
    "name": "ipython",
    "version": 3
   },
   "file_extension": ".py",
   "mimetype": "text/x-python",
   "name": "python",
   "nbconvert_exporter": "python",
   "pygments_lexer": "ipython3",
   "version": "3.7.6"
  }
 },
 "nbformat": 4,
 "nbformat_minor": 4
}
