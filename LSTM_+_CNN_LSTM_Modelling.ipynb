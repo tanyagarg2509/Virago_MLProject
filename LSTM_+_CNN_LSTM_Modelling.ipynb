{
  "nbformat": 4,
  "nbformat_minor": 0,
  "metadata": {
    "colab": {
      "name": "LSTM + CNN-LSTM_Modelling.ipynb",
      "provenance": [],
      "collapsed_sections": []
    },
    "kernelspec": {
      "name": "python3",
      "display_name": "Python 3"
    }
  },
  "cells": [
    {
      "cell_type": "code",
      "metadata": {
        "id": "WfCsaTG3Wa3Z",
        "colab_type": "code",
        "colab": {
          "base_uri": "https://localhost:8080/",
          "height": 119
        },
        "outputId": "b207a64f-56cd-412e-a4ff-a936de154d4f"
      },
      "source": [
        "import os\n",
        "import pandas as pd\n",
        "import matplotlib.pyplot as plt\n",
        "from wordcloud import WordCloud\n",
        "import nltk\n",
        "nltk.download('stopwords')\n",
        "from nltk.corpus import stopwords\n",
        "from nltk.stem import WordNetLemmatizer\n",
        "nltk.download('wordnet')\n",
        "from nltk.stem import PorterStemmer\n",
        "nltk.download('punkt')\n",
        "from collections import Counter\n",
        "import re\n",
        "from sklearn.metrics import confusion_matrix\n",
        "from sklearn.feature_extraction.text import CountVectorizer\n",
        "from sklearn.feature_extraction.text import TfidfTransformer\n",
        "from sklearn.feature_extraction.text import TfidfVectorizer\n",
        "from sklearn import metrics\n",
        "import numpy\n",
        "import keras.models\n",
        "import tensorflow\n",
        "from keras.models import Sequential\n",
        "from keras.layers import Embedding\n",
        "from keras.layers import Activation, Dense\n",
        "from tensorflow.keras.layers import Dense\n",
        "\n"
      ],
      "execution_count": 266,
      "outputs": [
        {
          "output_type": "stream",
          "text": [
            "[nltk_data] Downloading package stopwords to /root/nltk_data...\n",
            "[nltk_data]   Package stopwords is already up-to-date!\n",
            "[nltk_data] Downloading package wordnet to /root/nltk_data...\n",
            "[nltk_data]   Package wordnet is already up-to-date!\n",
            "[nltk_data] Downloading package punkt to /root/nltk_data...\n",
            "[nltk_data]   Package punkt is already up-to-date!\n"
          ],
          "name": "stdout"
        }
      ]
    },
    {
      "cell_type": "code",
      "metadata": {
        "id": "8qA0OsyOT5H_",
        "colab_type": "code",
        "colab": {
          "base_uri": "https://localhost:8080/",
          "height": 34
        },
        "outputId": "24fef6e3-db7e-4c58-c19e-19918892fbdb"
      },
      "source": [
        "!pip install unidecode"
      ],
      "execution_count": 267,
      "outputs": [
        {
          "output_type": "stream",
          "text": [
            "Requirement already satisfied: unidecode in /usr/local/lib/python3.6/dist-packages (1.1.1)\n"
          ],
          "name": "stdout"
        }
      ]
    },
    {
      "cell_type": "code",
      "metadata": {
        "id": "TGdnbVw1UGxD",
        "colab_type": "code",
        "colab": {}
      },
      "source": [
        "import unidecode"
      ],
      "execution_count": 268,
      "outputs": []
    },
    {
      "cell_type": "code",
      "metadata": {
        "id": "dpcV5ux1ISW5",
        "colab_type": "code",
        "colab": {
          "base_uri": "https://localhost:8080/",
          "height": 34
        },
        "outputId": "f898639b-2a0c-4751-bf5e-950cc4e6ac91"
      },
      "source": [
        "from google.colab import drive\n",
        "drive.mount('/content/drive')"
      ],
      "execution_count": 269,
      "outputs": [
        {
          "output_type": "stream",
          "text": [
            "Drive already mounted at /content/drive; to attempt to forcibly remount, call drive.mount(\"/content/drive\", force_remount=True).\n"
          ],
          "name": "stdout"
        }
      ]
    },
    {
      "cell_type": "code",
      "metadata": {
        "id": "zXFy0t-3WxxN",
        "colab_type": "code",
        "colab": {}
      },
      "source": [
        "path = '/content/drive/My Drive/Data/cleaned_dataset_train.csv'\n",
        "df = pd.read_csv(path)"
      ],
      "execution_count": 270,
      "outputs": []
    },
    {
      "cell_type": "code",
      "metadata": {
        "id": "k5hDU5V8XAlU",
        "colab_type": "code",
        "colab": {
          "base_uri": "https://localhost:8080/",
          "height": 34
        },
        "outputId": "0feadca2-a17f-42ef-df8d-78ced72c7679"
      },
      "source": [
        "df.shape"
      ],
      "execution_count": 271,
      "outputs": [
        {
          "output_type": "execute_result",
          "data": {
            "text/plain": [
              "(31962, 6)"
            ]
          },
          "metadata": {
            "tags": []
          },
          "execution_count": 271
        }
      ]
    },
    {
      "cell_type": "code",
      "metadata": {
        "id": "-tbtmUiuWX-d",
        "colab_type": "code",
        "colab": {
          "base_uri": "https://localhost:8080/",
          "height": 204
        },
        "outputId": "3c959e9e-22b3-477d-8fc5-8bc0ce483d7b"
      },
      "source": [
        "df.head()"
      ],
      "execution_count": 272,
      "outputs": [
        {
          "output_type": "execute_result",
          "data": {
            "text/html": [
              "<div>\n",
              "<style scoped>\n",
              "    .dataframe tbody tr th:only-of-type {\n",
              "        vertical-align: middle;\n",
              "    }\n",
              "\n",
              "    .dataframe tbody tr th {\n",
              "        vertical-align: top;\n",
              "    }\n",
              "\n",
              "    .dataframe thead th {\n",
              "        text-align: right;\n",
              "    }\n",
              "</style>\n",
              "<table border=\"1\" class=\"dataframe\">\n",
              "  <thead>\n",
              "    <tr style=\"text-align: right;\">\n",
              "      <th></th>\n",
              "      <th>Unnamed: 0</th>\n",
              "      <th>id</th>\n",
              "      <th>label</th>\n",
              "      <th>tweet</th>\n",
              "      <th>clean_tweet</th>\n",
              "      <th>Hashtags</th>\n",
              "    </tr>\n",
              "  </thead>\n",
              "  <tbody>\n",
              "    <tr>\n",
              "      <th>0</th>\n",
              "      <td>0</td>\n",
              "      <td>1</td>\n",
              "      <td>0</td>\n",
              "      <td>@user when a father is dysfunctional and is s...</td>\n",
              "      <td>father dysfunct selfish drag kid dysfunction. ...</td>\n",
              "      <td>#run</td>\n",
              "    </tr>\n",
              "    <tr>\n",
              "      <th>1</th>\n",
              "      <td>1</td>\n",
              "      <td>2</td>\n",
              "      <td>0</td>\n",
              "      <td>@user @user thanks for #lyft credit i can't us...</td>\n",
              "      <td>thank #lyft credit can't use caus offer wheelc...</td>\n",
              "      <td>#lyft #disapointed #getthanked</td>\n",
              "    </tr>\n",
              "    <tr>\n",
              "      <th>2</th>\n",
              "      <td>2</td>\n",
              "      <td>3</td>\n",
              "      <td>0</td>\n",
              "      <td>bihday your majesty</td>\n",
              "      <td>bihday majesti</td>\n",
              "      <td>No hashtags</td>\n",
              "    </tr>\n",
              "    <tr>\n",
              "      <th>3</th>\n",
              "      <td>3</td>\n",
              "      <td>4</td>\n",
              "      <td>0</td>\n",
              "      <td>#model   i love u take with u all the time in ...</td>\n",
              "      <td>#model love take time urd+-!!! dddd d|d|d|</td>\n",
              "      <td>#model</td>\n",
              "    </tr>\n",
              "    <tr>\n",
              "      <th>4</th>\n",
              "      <td>4</td>\n",
              "      <td>5</td>\n",
              "      <td>0</td>\n",
              "      <td>factsguide: society now    #motivation</td>\n",
              "      <td>factsguide: societi #motiv</td>\n",
              "      <td>#motivation</td>\n",
              "    </tr>\n",
              "  </tbody>\n",
              "</table>\n",
              "</div>"
            ],
            "text/plain": [
              "   Unnamed: 0  ...                        Hashtags\n",
              "0           0  ...                            #run\n",
              "1           1  ...  #lyft #disapointed #getthanked\n",
              "2           2  ...                     No hashtags\n",
              "3           3  ...                          #model\n",
              "4           4  ...                     #motivation\n",
              "\n",
              "[5 rows x 6 columns]"
            ]
          },
          "metadata": {
            "tags": []
          },
          "execution_count": 272
        }
      ]
    },
    {
      "cell_type": "code",
      "metadata": {
        "id": "o5HVNV3Ddxm3",
        "colab_type": "code",
        "colab": {}
      },
      "source": [
        "df = df.drop(labels= ['id','Unnamed: 0','Hashtags'],axis=1)"
      ],
      "execution_count": 273,
      "outputs": []
    },
    {
      "cell_type": "code",
      "metadata": {
        "id": "Ph_w6YvPSGW8",
        "colab_type": "code",
        "colab": {
          "base_uri": "https://localhost:8080/",
          "height": 221
        },
        "outputId": "4b232a9b-70e9-4668-a68d-073f4ec34365"
      },
      "source": [
        "##df[df[\"clean_tweet\"].notnull()]\n",
        "df['clean_tweet'].fillna(' ')"
      ],
      "execution_count": 274,
      "outputs": [
        {
          "output_type": "execute_result",
          "data": {
            "text/plain": [
              "0        father dysfunct selfish drag kid dysfunction. ...\n",
              "1        thank #lyft credit can't use caus offer wheelc...\n",
              "2                                           bihday majesti\n",
              "3               #model love take time urd+-!!! dddd d|d|d|\n",
              "4                               factsguide: societi #motiv\n",
              "                               ...                        \n",
              "31957                         ate isz youuu?ddddddddda$?i,\n",
              "31958    see nina turner airwav tri wrap mantl genuin h...\n",
              "31959             listen sad song monday morn otw work sad\n",
              "31960     #sikh #templ vandalis #calgary, #wso condemn act\n",
              "31961                                         thank follow\n",
              "Name: clean_tweet, Length: 31962, dtype: object"
            ]
          },
          "metadata": {
            "tags": []
          },
          "execution_count": 274
        }
      ]
    },
    {
      "cell_type": "code",
      "metadata": {
        "id": "GmrJAnynIENy",
        "colab_type": "code",
        "colab": {
          "base_uri": "https://localhost:8080/",
          "height": 34
        },
        "outputId": "440cfe8e-37a9-4d14-eb0b-03ff15c5da9a"
      },
      "source": [
        "df['clean_tweet'].isna().sum()"
      ],
      "execution_count": 275,
      "outputs": [
        {
          "output_type": "execute_result",
          "data": {
            "text/plain": [
              "11"
            ]
          },
          "metadata": {
            "tags": []
          },
          "execution_count": 275
        }
      ]
    },
    {
      "cell_type": "code",
      "metadata": {
        "id": "YHOJtGA9IEDt",
        "colab_type": "code",
        "colab": {}
      },
      "source": [
        "df['clean_tweet'].fillna('Null',inplace=True)"
      ],
      "execution_count": 276,
      "outputs": []
    },
    {
      "cell_type": "code",
      "metadata": {
        "id": "nbWFWxmsID56",
        "colab_type": "code",
        "colab": {
          "base_uri": "https://localhost:8080/",
          "height": 34
        },
        "outputId": "c5d84c83-584f-4ee4-b718-9f11a932cf14"
      },
      "source": [
        "df['clean_tweet'].isna().sum()"
      ],
      "execution_count": 277,
      "outputs": [
        {
          "output_type": "execute_result",
          "data": {
            "text/plain": [
              "0"
            ]
          },
          "metadata": {
            "tags": []
          },
          "execution_count": 277
        }
      ]
    },
    {
      "cell_type": "code",
      "metadata": {
        "id": "mfECt6bkd0D4",
        "colab_type": "code",
        "colab": {
          "base_uri": "https://localhost:8080/",
          "height": 204
        },
        "outputId": "97ddca7f-675e-4b8b-cab6-ed6ca7e6bdd4"
      },
      "source": [
        "df.head()"
      ],
      "execution_count": 278,
      "outputs": [
        {
          "output_type": "execute_result",
          "data": {
            "text/html": [
              "<div>\n",
              "<style scoped>\n",
              "    .dataframe tbody tr th:only-of-type {\n",
              "        vertical-align: middle;\n",
              "    }\n",
              "\n",
              "    .dataframe tbody tr th {\n",
              "        vertical-align: top;\n",
              "    }\n",
              "\n",
              "    .dataframe thead th {\n",
              "        text-align: right;\n",
              "    }\n",
              "</style>\n",
              "<table border=\"1\" class=\"dataframe\">\n",
              "  <thead>\n",
              "    <tr style=\"text-align: right;\">\n",
              "      <th></th>\n",
              "      <th>label</th>\n",
              "      <th>tweet</th>\n",
              "      <th>clean_tweet</th>\n",
              "    </tr>\n",
              "  </thead>\n",
              "  <tbody>\n",
              "    <tr>\n",
              "      <th>0</th>\n",
              "      <td>0</td>\n",
              "      <td>@user when a father is dysfunctional and is s...</td>\n",
              "      <td>father dysfunct selfish drag kid dysfunction. ...</td>\n",
              "    </tr>\n",
              "    <tr>\n",
              "      <th>1</th>\n",
              "      <td>0</td>\n",
              "      <td>@user @user thanks for #lyft credit i can't us...</td>\n",
              "      <td>thank #lyft credit can't use caus offer wheelc...</td>\n",
              "    </tr>\n",
              "    <tr>\n",
              "      <th>2</th>\n",
              "      <td>0</td>\n",
              "      <td>bihday your majesty</td>\n",
              "      <td>bihday majesti</td>\n",
              "    </tr>\n",
              "    <tr>\n",
              "      <th>3</th>\n",
              "      <td>0</td>\n",
              "      <td>#model   i love u take with u all the time in ...</td>\n",
              "      <td>#model love take time urd+-!!! dddd d|d|d|</td>\n",
              "    </tr>\n",
              "    <tr>\n",
              "      <th>4</th>\n",
              "      <td>0</td>\n",
              "      <td>factsguide: society now    #motivation</td>\n",
              "      <td>factsguide: societi #motiv</td>\n",
              "    </tr>\n",
              "  </tbody>\n",
              "</table>\n",
              "</div>"
            ],
            "text/plain": [
              "   label  ...                                        clean_tweet\n",
              "0      0  ...  father dysfunct selfish drag kid dysfunction. ...\n",
              "1      0  ...  thank #lyft credit can't use caus offer wheelc...\n",
              "2      0  ...                                     bihday majesti\n",
              "3      0  ...         #model love take time urd+-!!! dddd d|d|d|\n",
              "4      0  ...                         factsguide: societi #motiv\n",
              "\n",
              "[5 rows x 3 columns]"
            ]
          },
          "metadata": {
            "tags": []
          },
          "execution_count": 278
        }
      ]
    },
    {
      "cell_type": "code",
      "metadata": {
        "id": "YHQExymYwfS3",
        "colab_type": "code",
        "colab": {
          "base_uri": "https://localhost:8080/",
          "height": 34
        },
        "outputId": "123dc723-e9f3-405c-b4bc-f254a5f52365"
      },
      "source": [
        "type(df['clean_tweet'].values)"
      ],
      "execution_count": 279,
      "outputs": [
        {
          "output_type": "execute_result",
          "data": {
            "text/plain": [
              "numpy.ndarray"
            ]
          },
          "metadata": {
            "tags": []
          },
          "execution_count": 279
        }
      ]
    },
    {
      "cell_type": "markdown",
      "metadata": {
        "id": "-WmzYGgphfOv",
        "colab_type": "text"
      },
      "source": [
        "#**Splitting Data**"
      ]
    },
    {
      "cell_type": "code",
      "metadata": {
        "id": "sOHIqnBzWZe4",
        "colab_type": "code",
        "colab": {
          "base_uri": "https://localhost:8080/",
          "height": 34
        },
        "outputId": "6c36a1c1-f88a-4f04-930b-621299887c6c"
      },
      "source": [
        "from sklearn.model_selection import train_test_split\n",
        "from sklearn.feature_extraction.text import CountVectorizer\n",
        "X_train, X_test, Y_train, Y_test = train_test_split( df['clean_tweet'].values, df['label'].values, random_state=42, stratify=df['label'].values)\n",
        "                                                    \n",
        "X_train.shape, X_test.shape, Y_train.shape, Y_test.shape                            "
      ],
      "execution_count": 280,
      "outputs": [
        {
          "output_type": "execute_result",
          "data": {
            "text/plain": [
              "((23971,), (7991,), (23971,), (7991,))"
            ]
          },
          "metadata": {
            "tags": []
          },
          "execution_count": 280
        }
      ]
    },
    {
      "cell_type": "code",
      "metadata": {
        "id": "TYP8w6bNWi1R",
        "colab_type": "code",
        "colab": {
          "base_uri": "https://localhost:8080/",
          "height": 119
        },
        "outputId": "858809fa-664d-454a-f9a0-a65ea7d5c530"
      },
      "source": [
        "import numpy as np\n",
        "X_train\n"
      ],
      "execution_count": 281,
      "outputs": [
        {
          "output_type": "execute_result",
          "data": {
            "text/plain": [
              "array(['like spread peanut butter white bread! #littlewond',\n",
              "       \"watch made america o.j. simpson..... 30for30.... far interesting...... went 60' still go 2016.\",\n",
              "       'franci underwood seen leav marseil #nojok', ...,\n",
              "       'kudo compliant :) #itaxnirahisi',\n",
              "       '#streetautopia attack bull game 3d: realli think head empti around city. si',\n",
              "       '6pm'], dtype=object)"
            ]
          },
          "metadata": {
            "tags": []
          },
          "execution_count": 281
        }
      ]
    },
    {
      "cell_type": "markdown",
      "metadata": {
        "id": "4BYE72VAhk59",
        "colab_type": "text"
      },
      "source": [
        "# **Bag Of words**"
      ]
    },
    {
      "cell_type": "code",
      "metadata": {
        "id": "ONHp2WM8Cza1",
        "colab_type": "code",
        "colab": {
          "base_uri": "https://localhost:8080/",
          "height": 34
        },
        "outputId": "084b2b12-c600-4a57-f9a6-36898dc3ee34"
      },
      "source": [
        "df['clean_tweet'].isna().sum()"
      ],
      "execution_count": 282,
      "outputs": [
        {
          "output_type": "execute_result",
          "data": {
            "text/plain": [
              "0"
            ]
          },
          "metadata": {
            "tags": []
          },
          "execution_count": 282
        }
      ]
    },
    {
      "cell_type": "code",
      "metadata": {
        "id": "Uzbci2kGCQOa",
        "colab_type": "code",
        "colab": {
          "base_uri": "https://localhost:8080/",
          "height": 34
        },
        "outputId": "c831351f-642f-4f89-9b00-b49a8733a65a"
      },
      "source": [
        "corpus = []\n",
        "for i in range(X_train.shape[0]):\n",
        "    corpus.append(X_train[i])\n",
        "\n",
        "len(corpus)"
      ],
      "execution_count": 283,
      "outputs": [
        {
          "output_type": "execute_result",
          "data": {
            "text/plain": [
              "23971"
            ]
          },
          "metadata": {
            "tags": []
          },
          "execution_count": 283
        }
      ]
    },
    {
      "cell_type": "code",
      "metadata": {
        "id": "wOOhcoeA2nLH",
        "colab_type": "code",
        "colab": {
          "base_uri": "https://localhost:8080/",
          "height": 34
        },
        "outputId": "287f28f3-7257-4feb-e401-8ced823607e4"
      },
      "source": [
        "vectorizer = CountVectorizer(max_df=0.90, min_df=2, max_features=1000, stop_words='english')\n",
        "bow = vectorizer.fit_transform(X_train)  ##The input to fit_transform should be a list of strings. \n",
        "bow.shape"
      ],
      "execution_count": 284,
      "outputs": [
        {
          "output_type": "execute_result",
          "data": {
            "text/plain": [
              "(23971, 1000)"
            ]
          },
          "metadata": {
            "tags": []
          },
          "execution_count": 284
        }
      ]
    },
    {
      "cell_type": "markdown",
      "metadata": {
        "id": "3v48YOFDefFy",
        "colab_type": "text"
      },
      "source": [
        "# **Term frequency inverse document frequency**"
      ]
    },
    {
      "cell_type": "code",
      "metadata": {
        "id": "OUGpjrfDdXFb",
        "colab_type": "code",
        "colab": {
          "base_uri": "https://localhost:8080/",
          "height": 34
        },
        "outputId": "079e513d-cf21-441b-ec76-bc8e4086f014"
      },
      "source": [
        "tfidf_vectorizer = TfidfVectorizer(max_df=0.90, min_df=2, max_features=1000, stop_words='english')\n",
        "tfidf = tfidf_vectorizer.fit_transform(X_train)\n",
        "tfidf.shape"
      ],
      "execution_count": 285,
      "outputs": [
        {
          "output_type": "execute_result",
          "data": {
            "text/plain": [
              "(23971, 1000)"
            ]
          },
          "metadata": {
            "tags": []
          },
          "execution_count": 285
        }
      ]
    },
    {
      "cell_type": "markdown",
      "metadata": {
        "id": "crjH_woDhsGY",
        "colab_type": "text"
      },
      "source": [
        "### To create a function which checks which model is better"
      ]
    },
    {
      "cell_type": "code",
      "metadata": {
        "id": "WaHO72oAfV-y",
        "colab_type": "code",
        "colab": {}
      },
      "source": [
        "def Model(model,Input,Output,TestInput,TestOutput):\n",
        "  clf = model\n",
        "  clf.fit(Input,Output)\n",
        "  test_prediction = clf.predict(TestInput)\n",
        "  print(metrics.classification_report(y_true= TestOutput, y_pred= test_prediction))\n",
        "  sns.heatmap(metrics.confusion_matrix(y_true = TestOutput, y_pred = test_prediction),fnt = 'd',annot = True)"
      ],
      "execution_count": 286,
      "outputs": []
    },
    {
      "cell_type": "code",
      "metadata": {
        "id": "1r3QN51sjRqm",
        "colab_type": "code",
        "colab": {
          "base_uri": "https://localhost:8080/",
          "height": 279
        },
        "outputId": "a49d2a25-1878-44d2-ed82-8f22b5f21828"
      },
      "source": [
        "pd.Series(Y_test).value_counts().plot(kind = 'bar')"
      ],
      "execution_count": 287,
      "outputs": [
        {
          "output_type": "execute_result",
          "data": {
            "text/plain": [
              "<matplotlib.axes._subplots.AxesSubplot at 0x7f021f6ca4e0>"
            ]
          },
          "metadata": {
            "tags": []
          },
          "execution_count": 287
        },
        {
          "output_type": "display_data",
          "data": {
            "image/png": "[encoded data removed]",
            "text/plain": [
              "<Figure size 432x288 with 1 Axes>"
            ]
          },
          "metadata": {
            "tags": [],
            "needs_background": "light"
          }
        }
      ]
    },
    {
      "cell_type": "markdown",
      "metadata": {
        "id": "gMWGbbdijnFY",
        "colab_type": "text"
      },
      "source": [
        "#This bar plot shows that the count of negative tweets(racist/sexist comments) is less."
      ]
    },
    {
      "cell_type": "markdown",
      "metadata": {
        "id": "yPukDnzwrDhA",
        "colab_type": "text"
      },
      "source": [
        "# **Building Deep Neural Networks**"
      ]
    },
    {
      "cell_type": "code",
      "metadata": {
        "id": "6EBTnu3qY-2I",
        "colab_type": "code",
        "colab": {
          "base_uri": "https://localhost:8080/",
          "height": 119
        },
        "outputId": "6d161566-f6fc-469c-b09b-343b99582478"
      },
      "source": [
        "X_train"
      ],
      "execution_count": 254,
      "outputs": [
        {
          "output_type": "execute_result",
          "data": {
            "text/plain": [
              "array(['like spread peanut butter white bread! #littlewond',\n",
              "       \"watch made america o.j. simpson..... 30for30.... far interesting...... went 60' still go 2016.\",\n",
              "       'franci underwood seen leav marseil #nojok', ...,\n",
              "       'kudo compliant :) #itaxnirahisi',\n",
              "       '#streetautopia attack bull game 3d: realli think head empti around city. si',\n",
              "       '6pm'], dtype=object)"
            ]
          },
          "metadata": {
            "tags": []
          },
          "execution_count": 254
        }
      ]
    },
    {
      "cell_type": "code",
      "metadata": {
        "id": "ZbTO7jBomO-T",
        "colab_type": "code",
        "colab": {
          "base_uri": "https://localhost:8080/",
          "height": 34
        },
        "outputId": "01f33009-cecf-424d-cfa8-e5b95c672f5e"
      },
      "source": [
        "##Tokenize the data\n",
        "from keras.preprocessing.text import Tokenizer\n",
        "tokenizer = Tokenizer(num_words = 2000, lower=True)\n",
        "tokenizer.fit_on_texts(X_train)\n",
        "word_index = tokenizer.word_index\n",
        "print('Found %s unique tokens.' % len(word_index))"
      ],
      "execution_count": 288,
      "outputs": [
        {
          "output_type": "stream",
          "text": [
            "Found 33156 unique tokens.\n"
          ],
          "name": "stdout"
        }
      ]
    },
    {
      "cell_type": "code",
      "metadata": {
        "id": "DWESGIdMmOzp",
        "colab_type": "code",
        "colab": {
          "base_uri": "https://localhost:8080/",
          "height": 34
        },
        "outputId": "b58f3f22-8b80-41bc-ea73-1c0e1d0e7d75"
      },
      "source": [
        "##To get the length of the largest review\n",
        "lengths= []\n",
        "for i in range(0,len(X_train)):\n",
        "  lengths.append(len(X_train[i]))\n",
        "max(lengths)"
      ],
      "execution_count": 289,
      "outputs": [
        {
          "output_type": "execute_result",
          "data": {
            "text/plain": [
              "193"
            ]
          },
          "metadata": {
            "tags": []
          },
          "execution_count": 289
        }
      ]
    },
    {
      "cell_type": "code",
      "metadata": {
        "id": "o-jph9_zmOp7",
        "colab_type": "code",
        "colab": {
          "base_uri": "https://localhost:8080/",
          "height": 34
        },
        "outputId": "0400ae17-481e-4a12-9c8f-ffd68f94a9cd"
      },
      "source": [
        "X = tokenizer.texts_to_sequences(X_train)\n",
        "X[0]"
      ],
      "execution_count": 290,
      "outputs": [
        {
          "output_type": "execute_result",
          "data": {
            "text/plain": [
              "[15, 1731, 156]"
            ]
          },
          "metadata": {
            "tags": []
          },
          "execution_count": 290
        }
      ]
    },
    {
      "cell_type": "code",
      "metadata": {
        "id": "6ZQQfATJmOgX",
        "colab_type": "code",
        "colab": {}
      },
      "source": [
        "from keras.preprocessing.sequence import pad_sequences\n",
        "X = pad_sequences(X ,maxlen = 193)"
      ],
      "execution_count": 291,
      "outputs": []
    },
    {
      "cell_type": "code",
      "metadata": {
        "id": "JQHilzK3mOTe",
        "colab_type": "code",
        "colab": {
          "base_uri": "https://localhost:8080/",
          "height": 34
        },
        "outputId": "6036a69c-3174-4a7c-baa1-736c9a234c30"
      },
      "source": [
        "print('Shape of data tensor:',X.shape)"
      ],
      "execution_count": 292,
      "outputs": [
        {
          "output_type": "stream",
          "text": [
            "Shape of data tensor: (23971, 193)\n"
          ],
          "name": "stdout"
        }
      ]
    },
    {
      "cell_type": "markdown",
      "metadata": {
        "id": "VEcVekHFkILD",
        "colab_type": "text"
      },
      "source": [
        "# **Simple LSTM**"
      ]
    },
    {
      "cell_type": "code",
      "metadata": {
        "id": "kTxRJrFWpLfx",
        "colab_type": "code",
        "colab": {}
      },
      "source": [
        "from keras.models import Sequential\n",
        "from keras.layers import Dense\n",
        "from keras.wrappers.scikit_learn import KerasClassifier\n",
        "from keras.optimizers import SGD\n",
        "from sklearn.model_selection import cross_val_score\n",
        "from sklearn.preprocessing import LabelEncoder\n",
        "from sklearn.model_selection import StratifiedKFold\n",
        "from sklearn.preprocessing import StandardScaler\n",
        "from sklearn.pipeline import Pipeline\n",
        "from keras.layers.core import Dense, Activation, Dropout\n",
        "from keras.layers.recurrent import LSTM\n",
        "import seaborn as sns\n",
        "\n",
        "##import LSTM, time #helper libraries"
      ],
      "execution_count": 293,
      "outputs": []
    },
    {
      "cell_type": "code",
      "metadata": {
        "id": "dVJvj6K0kMXr",
        "colab_type": "code",
        "colab": {
          "base_uri": "https://localhost:8080/",
          "height": 306
        },
        "outputId": "fde7de1c-dfa5-4dd7-bbb9-625d2db81d0a"
      },
      "source": [
        "model = Sequential()\n",
        "model.add(Embedding(20000,100,input_length= X.shape[1]))\n",
        "model.add( Dropout(0.2))\n",
        "model.add(LSTM(100,dropout=0.2, recurrent_dropout=0.2))\n",
        "model.add(Dense(1,activation = 'sigmoid'))\n",
        "model.compile(loss='binary_crossentropy', optimizer='adam' , metrics=['accuracy'])\n",
        "print(model.summary())"
      ],
      "execution_count": 294,
      "outputs": [
        {
          "output_type": "stream",
          "text": [
            "Model: \"sequential_2\"\n",
            "_________________________________________________________________\n",
            "Layer (type)                 Output Shape              Param #   \n",
            "=================================================================\n",
            "embedding_2 (Embedding)      (None, 193, 100)          2000000   \n",
            "_________________________________________________________________\n",
            "dropout_2 (Dropout)          (None, 193, 100)          0         \n",
            "_________________________________________________________________\n",
            "lstm_2 (LSTM)                (None, 100)               80400     \n",
            "_________________________________________________________________\n",
            "dense_2 (Dense)              (None, 1)                 101       \n",
            "=================================================================\n",
            "Total params: 2,080,501\n",
            "Trainable params: 2,080,501\n",
            "Non-trainable params: 0\n",
            "_________________________________________________________________\n",
            "None\n"
          ],
          "name": "stdout"
        }
      ]
    },
    {
      "cell_type": "code",
      "metadata": {
        "id": "cGlOnf-elcvo",
        "colab_type": "code",
        "colab": {
          "base_uri": "https://localhost:8080/",
          "height": 258
        },
        "outputId": "1ce76395-a47d-4d57-9c70-4def1553be06"
      },
      "source": [
        "history = model.fit(X, Y_train, epochs=5, batch_size=32 , validation_split=0.2)"
      ],
      "execution_count": 263,
      "outputs": [
        {
          "output_type": "stream",
          "text": [
            "/usr/local/lib/python3.6/dist-packages/tensorflow/python/framework/indexed_slices.py:434: UserWarning: Converting sparse IndexedSlices to a dense Tensor of unknown shape. This may consume a large amount of memory.\n",
            "  \"Converting sparse IndexedSlices to a dense Tensor of unknown shape. \"\n"
          ],
          "name": "stderr"
        },
        {
          "output_type": "stream",
          "text": [
            "Train on 19176 samples, validate on 4795 samples\n",
            "Epoch 1/5\n",
            "19176/19176 [==============================] - 140s 7ms/step - loss: 0.1951 - accuracy: 0.9394 - val_loss: 0.1449 - val_accuracy: 0.9522\n",
            "Epoch 2/5\n",
            "19176/19176 [==============================] - 139s 7ms/step - loss: 0.1215 - accuracy: 0.9562 - val_loss: 0.1473 - val_accuracy: 0.9466\n",
            "Epoch 3/5\n",
            "19176/19176 [==============================] - 139s 7ms/step - loss: 0.1044 - accuracy: 0.9616 - val_loss: 0.1517 - val_accuracy: 0.9462\n",
            "Epoch 4/5\n",
            "19176/19176 [==============================] - 140s 7ms/step - loss: 0.0912 - accuracy: 0.9664 - val_loss: 0.1512 - val_accuracy: 0.9504\n",
            "Epoch 5/5\n",
            "19176/19176 [==============================] - 145s 8ms/step - loss: 0.0776 - accuracy: 0.9713 - val_loss: 0.1580 - val_accuracy: 0.9472\n"
          ],
          "name": "stdout"
        }
      ]
    },
    {
      "cell_type": "markdown",
      "metadata": {
        "id": "g9ut2fDit4wN",
        "colab_type": "text"
      },
      "source": [
        "#Preprocess the test data to predict labels\n"
      ]
    },
    {
      "cell_type": "code",
      "metadata": {
        "id": "AWKvUT4VriUk",
        "colab_type": "code",
        "colab": {}
      },
      "source": [
        "X_test = tokenizer.texts_to_sequences(X_test)\n",
        "X_test = pad_sequences(X_test , maxlen = 193)\n",
        "test_prediction = model.predict_classes(X_test)"
      ],
      "execution_count": 295,
      "outputs": []
    },
    {
      "cell_type": "code",
      "metadata": {
        "id": "uPOrLHT7tWTW",
        "colab_type": "code",
        "colab": {
          "base_uri": "https://localhost:8080/",
          "height": 435
        },
        "outputId": "b202ac13-96be-44fc-f7dc-461d68955cc3"
      },
      "source": [
        "print(metrics.classification_report(Y_test, test_prediction))\n",
        "sns.heatmap(metrics.confusion_matrix(Y_test, test_prediction), fmt='d',annot = True)                ##confusion matrix recall gets imp"
      ],
      "execution_count": 296,
      "outputs": [
        {
          "output_type": "stream",
          "text": [
            "              precision    recall  f1-score   support\n",
            "\n",
            "           0       0.95      0.29      0.45      7430\n",
            "           1       0.08      0.81      0.14       561\n",
            "\n",
            "    accuracy                           0.33      7991\n",
            "   macro avg       0.52      0.55      0.30      7991\n",
            "weighted avg       0.89      0.33      0.42      7991\n",
            "\n"
          ],
          "name": "stdout"
        },
        {
          "output_type": "execute_result",
          "data": {
            "text/plain": [
              "<matplotlib.axes._subplots.AxesSubplot at 0x7f02140a0748>"
            ]
          },
          "metadata": {
            "tags": []
          },
          "execution_count": 296
        },
        {
          "output_type": "display_data",
          "data": {
            "image/png": "[encoded data removed]",
            "text/plain": [
              "<Figure size 432x288 with 2 Axes>"
            ]
          },
          "metadata": {
            "tags": [],
            "needs_background": "light"
          }
        }
      ]
    },
    {
      "cell_type": "markdown",
      "metadata": {
        "id": "IWLY-2YEvDPT",
        "colab_type": "text"
      },
      "source": [
        "# **LSTM & Convolutional Neural Networks**"
      ]
    },
    {
      "cell_type": "code",
      "metadata": {
        "id": "AzjgFxXKvMaT",
        "colab_type": "code",
        "colab": {}
      },
      "source": [
        "from keras.layers import Conv1D, MaxPooling1D, GlobalAveragePooling1D\n",
        "from keras.layers import Dropout, Flatten, Dense\n",
        "from keras.models import Sequential\n",
        "model2 = Sequential()\n",
        "model2.add(Embedding(2000,150,input_length=X.shape[1]))\n",
        "#model.add(Conv1D(filters=64, kernel_size=3, padding='same', activation='relu'))\n",
        "#model.add(MaxPooling1D(pool_size=2))\n"
      ],
      "execution_count": 344,
      "outputs": []
    },
    {
      "cell_type": "code",
      "metadata": {
        "id": "bDVgjGhjqtBt",
        "colab_type": "code",
        "colab": {}
      },
      "source": [
        "model2.add(Dropout(0.2))"
      ],
      "execution_count": 345,
      "outputs": []
    },
    {
      "cell_type": "code",
      "metadata": {
        "id": "XvuMgKworvKy",
        "colab_type": "code",
        "colab": {}
      },
      "source": [
        "model2.add(Conv1D(filters=64, kernel_size=3, padding='same', activation='relu'))"
      ],
      "execution_count": 346,
      "outputs": []
    },
    {
      "cell_type": "code",
      "metadata": {
        "id": "Fzwgo_Xxr03j",
        "colab_type": "code",
        "colab": {}
      },
      "source": [
        "model2.add(MaxPooling1D(pool_size=2))"
      ],
      "execution_count": 347,
      "outputs": []
    },
    {
      "cell_type": "code",
      "metadata": {
        "id": "zW_8q1Y6qwB8",
        "colab_type": "code",
        "colab": {}
      },
      "source": [
        "model2.add(LSTM(200, dropout=0.2, recurrent_dropout=0.2))"
      ],
      "execution_count": 348,
      "outputs": []
    },
    {
      "cell_type": "code",
      "metadata": {
        "id": "Kx6KFpHrqzjP",
        "colab_type": "code",
        "colab": {}
      },
      "source": [
        "model2.add(Dense(1,activation = 'sigmoid'))"
      ],
      "execution_count": 349,
      "outputs": []
    },
    {
      "cell_type": "code",
      "metadata": {
        "id": "W3RTyxxsq2lT",
        "colab_type": "code",
        "colab": {}
      },
      "source": [
        "model2.compile(loss='binary_crossentropy', optimizer='adam' , metrics=['accuracy'])"
      ],
      "execution_count": 350,
      "outputs": []
    },
    {
      "cell_type": "code",
      "metadata": {
        "id": "dhjUKZ_8q489",
        "colab_type": "code",
        "colab": {
          "base_uri": "https://localhost:8080/",
          "height": 374
        },
        "outputId": "0a40a087-7cb3-420b-8252-9b6d5155072a"
      },
      "source": [
        "print(model2.summary()) "
      ],
      "execution_count": 351,
      "outputs": [
        {
          "output_type": "stream",
          "text": [
            "Model: \"sequential_7\"\n",
            "_________________________________________________________________\n",
            "Layer (type)                 Output Shape              Param #   \n",
            "=================================================================\n",
            "embedding_9 (Embedding)      (None, 193, 150)          300000    \n",
            "_________________________________________________________________\n",
            "dropout_6 (Dropout)          (None, 193, 150)          0         \n",
            "_________________________________________________________________\n",
            "conv1d_4 (Conv1D)            (None, 193, 64)           28864     \n",
            "_________________________________________________________________\n",
            "max_pooling1d_4 (MaxPooling1 (None, 96, 64)            0         \n",
            "_________________________________________________________________\n",
            "lstm_6 (LSTM)                (None, 200)               212000    \n",
            "_________________________________________________________________\n",
            "dense_6 (Dense)              (None, 1)                 201       \n",
            "=================================================================\n",
            "Total params: 541,065\n",
            "Trainable params: 541,065\n",
            "Non-trainable params: 0\n",
            "_________________________________________________________________\n",
            "None\n"
          ],
          "name": "stdout"
        }
      ]
    },
    {
      "cell_type": "code",
      "metadata": {
        "id": "7tRdW0Z12jSs",
        "colab_type": "code",
        "colab": {
          "base_uri": "https://localhost:8080/",
          "height": 275
        },
        "outputId": "8a17bab7-a096-4d40-9ff9-ee4280452888"
      },
      "source": [
        "model2.fit(X, Y_train,epochs = 5, batch_size= 32, validation_split= 0.2)"
      ],
      "execution_count": 352,
      "outputs": [
        {
          "output_type": "stream",
          "text": [
            "/usr/local/lib/python3.6/dist-packages/tensorflow/python/framework/indexed_slices.py:434: UserWarning: Converting sparse IndexedSlices to a dense Tensor of unknown shape. This may consume a large amount of memory.\n",
            "  \"Converting sparse IndexedSlices to a dense Tensor of unknown shape. \"\n"
          ],
          "name": "stderr"
        },
        {
          "output_type": "stream",
          "text": [
            "Train on 19176 samples, validate on 4795 samples\n",
            "Epoch 1/5\n",
            "19176/19176 [==============================] - 177s 9ms/step - loss: 0.1857 - accuracy: 0.9422 - val_loss: 0.1451 - val_accuracy: 0.9474\n",
            "Epoch 2/5\n",
            "19176/19176 [==============================] - 176s 9ms/step - loss: 0.1133 - accuracy: 0.9595 - val_loss: 0.1404 - val_accuracy: 0.9518\n",
            "Epoch 3/5\n",
            "19176/19176 [==============================] - 177s 9ms/step - loss: 0.0844 - accuracy: 0.9695 - val_loss: 0.1617 - val_accuracy: 0.9487\n",
            "Epoch 4/5\n",
            "19176/19176 [==============================] - 176s 9ms/step - loss: 0.0603 - accuracy: 0.9785 - val_loss: 0.2070 - val_accuracy: 0.9504\n",
            "Epoch 5/5\n",
            "19176/19176 [==============================] - 176s 9ms/step - loss: 0.0458 - accuracy: 0.9833 - val_loss: 0.2091 - val_accuracy: 0.9462\n"
          ],
          "name": "stdout"
        },
        {
          "output_type": "execute_result",
          "data": {
            "text/plain": [
              "<keras.callbacks.callbacks.History at 0x7f0212db7e10>"
            ]
          },
          "metadata": {
            "tags": []
          },
          "execution_count": 352
        }
      ]
    },
    {
      "cell_type": "code",
      "metadata": {
        "id": "0eEVTQdryARv",
        "colab_type": "code",
        "colab": {}
      },
      "source": [
        "test_prediction2 = model2.predict_classes(X_test)"
      ],
      "execution_count": 355,
      "outputs": []
    },
    {
      "cell_type": "code",
      "metadata": {
        "id": "EXpbzdbt1n9O",
        "colab_type": "code",
        "colab": {
          "base_uri": "https://localhost:8080/",
          "height": 170
        },
        "outputId": "1d4a7ba7-4cde-45ac-f8da-03e6daf4c7fe"
      },
      "source": [
        "print(metrics.classification_report(Y_test,test_prediction2))"
      ],
      "execution_count": 356,
      "outputs": [
        {
          "output_type": "stream",
          "text": [
            "              precision    recall  f1-score   support\n",
            "\n",
            "           0       0.96      0.99      0.97      7430\n",
            "           1       0.71      0.49      0.58       561\n",
            "\n",
            "    accuracy                           0.95      7991\n",
            "   macro avg       0.84      0.74      0.78      7991\n",
            "weighted avg       0.94      0.95      0.95      7991\n",
            "\n"
          ],
          "name": "stdout"
        }
      ]
    },
    {
      "cell_type": "code",
      "metadata": {
        "id": "aK5ZPZAi2bAz",
        "colab_type": "code",
        "colab": {
          "base_uri": "https://localhost:8080/",
          "height": 282
        },
        "outputId": "bb6005fe-6c00-4302-9cb1-cabe2d4d3125"
      },
      "source": [
        "sns.heatmap(metrics.confusion_matrix(Y_test,test_prediction2),fmt= 'd', annot = True)"
      ],
      "execution_count": 357,
      "outputs": [
        {
          "output_type": "execute_result",
          "data": {
            "text/plain": [
              "<matplotlib.axes._subplots.AxesSubplot at 0x7f0212958470>"
            ]
          },
          "metadata": {
            "tags": []
          },
          "execution_count": 357
        },
        {
          "output_type": "display_data",
          "data": {
            "image/png": "[encoded data removed]",
            "text/plain": [
              "<Figure size 432x288 with 2 Axes>"
            ]
          },
          "metadata": {
            "tags": [],
            "needs_background": "light"
          }
        }
      ]
    },
    {
      "cell_type": "code",
      "metadata": {
        "id": "McVw1yl53Xlj",
        "colab_type": "code",
        "colab": {}
      },
      "source": [
        ""
      ],
      "execution_count": null,
      "outputs": []
    }
  ]
}