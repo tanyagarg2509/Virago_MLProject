{
  "nbformat": 4,
  "nbformat_minor": 0,
  "metadata": {
    "kernelspec": {
      "display_name": "Python 3",
      "language": "python",
      "name": "python3"
    },
    "language_info": {
      "codemirror_mode": {
        "name": "ipython",
        "version": 3
      },
      "file_extension": ".py",
      "mimetype": "text/x-python",
      "name": "python",
      "nbconvert_exporter": "python",
      "pygments_lexer": "ipython3",
      "version": "3.6.5"
    },
    "colab": {
      "name": "ML_models.ipynb",
      "provenance": []
    }
  },
  "cells": [
    {
      "cell_type": "code",
      "metadata": {
        "id": "sO2bt9pmaodu",
        "colab_type": "code",
        "colab": {}
      },
      "source": [
        "import pandas as pd\n",
        "from sklearn.model_selection import train_test_split\n",
        "from sklearn.feature_extraction.text import CountVectorizer\n",
        "from sklearn.feature_extraction.text import TfidfVectorizer"
      ],
      "execution_count": 1,
      "outputs": []
    },
    {
      "cell_type": "code",
      "metadata": {
        "id": "99hJY53Uaod1",
        "colab_type": "code",
        "colab": {}
      },
      "source": [
        "df = pd.read_csv('/content/drive/My Drive/38891_59255/cleaned_dataset_train.csv')"
      ],
      "execution_count": 2,
      "outputs": []
    },
    {
      "cell_type": "code",
      "metadata": {
        "id": "0bYHyUXPaod4",
        "colab_type": "code",
        "colab": {
          "base_uri": "https://localhost:8080/",
          "height": 121
        },
        "outputId": "95a555e1-ee71-4858-fded-e5a4406f3598"
      },
      "source": [
        "df.isna().sum()"
      ],
      "execution_count": 3,
      "outputs": [
        {
          "output_type": "execute_result",
          "data": {
            "text/plain": [
              "Unnamed: 0      0\n",
              "label           0\n",
              "tweet           0\n",
              "clean_tweet    11\n",
              "Hashtags        0\n",
              "dtype: int64"
            ]
          },
          "metadata": {
            "tags": []
          },
          "execution_count": 3
        }
      ]
    },
    {
      "cell_type": "code",
      "metadata": {
        "id": "OCOOvmDVaod6",
        "colab_type": "code",
        "colab": {}
      },
      "source": [
        "df['clean_tweet'].fillna('Null',inplace=True)"
      ],
      "execution_count": 4,
      "outputs": []
    },
    {
      "cell_type": "code",
      "metadata": {
        "id": "2jKx2OzIaod8",
        "colab_type": "code",
        "colab": {
          "base_uri": "https://localhost:8080/",
          "height": 121
        },
        "outputId": "6184caba-12ff-42eb-975c-42ccb726a81d"
      },
      "source": [
        "df.isna().sum()"
      ],
      "execution_count": 5,
      "outputs": [
        {
          "output_type": "execute_result",
          "data": {
            "text/plain": [
              "Unnamed: 0     0\n",
              "label          0\n",
              "tweet          0\n",
              "clean_tweet    0\n",
              "Hashtags       0\n",
              "dtype: int64"
            ]
          },
          "metadata": {
            "tags": []
          },
          "execution_count": 5
        }
      ]
    },
    {
      "cell_type": "code",
      "metadata": {
        "id": "YTb3kNUaaod_",
        "colab_type": "code",
        "colab": {
          "base_uri": "https://localhost:8080/",
          "height": 554
        },
        "outputId": "680d128f-2460-4e28-a98a-c1e6955c3c73"
      },
      "source": [
        "df"
      ],
      "execution_count": 6,
      "outputs": [
        {
          "output_type": "execute_result",
          "data": {
            "text/html": [
              "<div>\n",
              "<style scoped>\n",
              "    .dataframe tbody tr th:only-of-type {\n",
              "        vertical-align: middle;\n",
              "    }\n",
              "\n",
              "    .dataframe tbody tr th {\n",
              "        vertical-align: top;\n",
              "    }\n",
              "\n",
              "    .dataframe thead th {\n",
              "        text-align: right;\n",
              "    }\n",
              "</style>\n",
              "<table border=\"1\" class=\"dataframe\">\n",
              "  <thead>\n",
              "    <tr style=\"text-align: right;\">\n",
              "      <th></th>\n",
              "      <th>Unnamed: 0</th>\n",
              "      <th>label</th>\n",
              "      <th>tweet</th>\n",
              "      <th>clean_tweet</th>\n",
              "      <th>Hashtags</th>\n",
              "    </tr>\n",
              "  </thead>\n",
              "  <tbody>\n",
              "    <tr>\n",
              "      <th>0</th>\n",
              "      <td>0</td>\n",
              "      <td>0</td>\n",
              "      <td>@user when a father is dysfunctional and is s...</td>\n",
              "      <td>father dysfunct selfish drag kid dysfunction. ...</td>\n",
              "      <td>#run</td>\n",
              "    </tr>\n",
              "    <tr>\n",
              "      <th>1</th>\n",
              "      <td>1</td>\n",
              "      <td>0</td>\n",
              "      <td>@user @user thanks for #lyft credit i can't us...</td>\n",
              "      <td>thank #lyft credit can't use caus offer wheelc...</td>\n",
              "      <td>#lyft #disapointed #getthanked</td>\n",
              "    </tr>\n",
              "    <tr>\n",
              "      <th>2</th>\n",
              "      <td>2</td>\n",
              "      <td>0</td>\n",
              "      <td>bihday your majesty</td>\n",
              "      <td>bihday majesti</td>\n",
              "      <td>No hashtags</td>\n",
              "    </tr>\n",
              "    <tr>\n",
              "      <th>3</th>\n",
              "      <td>3</td>\n",
              "      <td>0</td>\n",
              "      <td>#model   i love u take with u all the time in ...</td>\n",
              "      <td>#model love take time urd+-!!! dddd d|d|d|</td>\n",
              "      <td>#model</td>\n",
              "    </tr>\n",
              "    <tr>\n",
              "      <th>4</th>\n",
              "      <td>4</td>\n",
              "      <td>0</td>\n",
              "      <td>factsguide: society now    #motivation</td>\n",
              "      <td>factsguide: societi #motiv</td>\n",
              "      <td>#motivation</td>\n",
              "    </tr>\n",
              "    <tr>\n",
              "      <th>...</th>\n",
              "      <td>...</td>\n",
              "      <td>...</td>\n",
              "      <td>...</td>\n",
              "      <td>...</td>\n",
              "      <td>...</td>\n",
              "    </tr>\n",
              "    <tr>\n",
              "      <th>29525</th>\n",
              "      <td>31956</td>\n",
              "      <td>0</td>\n",
              "      <td>off fishing tomorrow @user carnt wait first ti...</td>\n",
              "      <td>fish tomorrow carnt wait first time year</td>\n",
              "      <td>No hashtags</td>\n",
              "    </tr>\n",
              "    <tr>\n",
              "      <th>29526</th>\n",
              "      <td>31957</td>\n",
              "      <td>0</td>\n",
              "      <td>ate @user isz that youuu?ðððððð...</td>\n",
              "      <td>ate isz youuu?ddddddddda$?i,</td>\n",
              "      <td>No hashtags</td>\n",
              "    </tr>\n",
              "    <tr>\n",
              "      <th>29527</th>\n",
              "      <td>31958</td>\n",
              "      <td>0</td>\n",
              "      <td>to see nina turner on the airwaves trying to...</td>\n",
              "      <td>see nina turner airwav tri wrap mantl genuin h...</td>\n",
              "      <td>#shame #imwithher</td>\n",
              "    </tr>\n",
              "    <tr>\n",
              "      <th>29528</th>\n",
              "      <td>31959</td>\n",
              "      <td>0</td>\n",
              "      <td>listening to sad songs on a monday morning otw...</td>\n",
              "      <td>listen sad song monday morn otw work sad</td>\n",
              "      <td>No hashtags</td>\n",
              "    </tr>\n",
              "    <tr>\n",
              "      <th>29529</th>\n",
              "      <td>31961</td>\n",
              "      <td>0</td>\n",
              "      <td>thank you @user for you follow</td>\n",
              "      <td>thank follow</td>\n",
              "      <td>No hashtags</td>\n",
              "    </tr>\n",
              "  </tbody>\n",
              "</table>\n",
              "<p>29530 rows × 5 columns</p>\n",
              "</div>"
            ],
            "text/plain": [
              "       Unnamed: 0  ...                        Hashtags\n",
              "0               0  ...                            #run\n",
              "1               1  ...  #lyft #disapointed #getthanked\n",
              "2               2  ...                     No hashtags\n",
              "3               3  ...                          #model\n",
              "4               4  ...                     #motivation\n",
              "...           ...  ...                             ...\n",
              "29525       31956  ...                     No hashtags\n",
              "29526       31957  ...                     No hashtags\n",
              "29527       31958  ...               #shame #imwithher\n",
              "29528       31959  ...                     No hashtags\n",
              "29529       31961  ...                     No hashtags\n",
              "\n",
              "[29530 rows x 5 columns]"
            ]
          },
          "metadata": {
            "tags": []
          },
          "execution_count": 6
        }
      ]
    },
    {
      "cell_type": "code",
      "metadata": {
        "id": "ZygZN0guaoeB",
        "colab_type": "code",
        "colab": {}
      },
      "source": [
        "df.drop(['Unnamed: 0','tweet'], axis = 1,inplace=True)"
      ],
      "execution_count": 7,
      "outputs": []
    },
    {
      "cell_type": "code",
      "metadata": {
        "id": "6jeqI-lUaoeE",
        "colab_type": "code",
        "colab": {
          "base_uri": "https://localhost:8080/",
          "height": 202
        },
        "outputId": "acf391c0-3149-4cb3-9881-1c07af863279"
      },
      "source": [
        "df.head()"
      ],
      "execution_count": 8,
      "outputs": [
        {
          "output_type": "execute_result",
          "data": {
            "text/html": [
              "<div>\n",
              "<style scoped>\n",
              "    .dataframe tbody tr th:only-of-type {\n",
              "        vertical-align: middle;\n",
              "    }\n",
              "\n",
              "    .dataframe tbody tr th {\n",
              "        vertical-align: top;\n",
              "    }\n",
              "\n",
              "    .dataframe thead th {\n",
              "        text-align: right;\n",
              "    }\n",
              "</style>\n",
              "<table border=\"1\" class=\"dataframe\">\n",
              "  <thead>\n",
              "    <tr style=\"text-align: right;\">\n",
              "      <th></th>\n",
              "      <th>label</th>\n",
              "      <th>clean_tweet</th>\n",
              "      <th>Hashtags</th>\n",
              "    </tr>\n",
              "  </thead>\n",
              "  <tbody>\n",
              "    <tr>\n",
              "      <th>0</th>\n",
              "      <td>0</td>\n",
              "      <td>father dysfunct selfish drag kid dysfunction. ...</td>\n",
              "      <td>#run</td>\n",
              "    </tr>\n",
              "    <tr>\n",
              "      <th>1</th>\n",
              "      <td>0</td>\n",
              "      <td>thank #lyft credit can't use caus offer wheelc...</td>\n",
              "      <td>#lyft #disapointed #getthanked</td>\n",
              "    </tr>\n",
              "    <tr>\n",
              "      <th>2</th>\n",
              "      <td>0</td>\n",
              "      <td>bihday majesti</td>\n",
              "      <td>No hashtags</td>\n",
              "    </tr>\n",
              "    <tr>\n",
              "      <th>3</th>\n",
              "      <td>0</td>\n",
              "      <td>#model love take time urd+-!!! dddd d|d|d|</td>\n",
              "      <td>#model</td>\n",
              "    </tr>\n",
              "    <tr>\n",
              "      <th>4</th>\n",
              "      <td>0</td>\n",
              "      <td>factsguide: societi #motiv</td>\n",
              "      <td>#motivation</td>\n",
              "    </tr>\n",
              "  </tbody>\n",
              "</table>\n",
              "</div>"
            ],
            "text/plain": [
              "   label  ...                        Hashtags\n",
              "0      0  ...                            #run\n",
              "1      0  ...  #lyft #disapointed #getthanked\n",
              "2      0  ...                     No hashtags\n",
              "3      0  ...                          #model\n",
              "4      0  ...                     #motivation\n",
              "\n",
              "[5 rows x 3 columns]"
            ]
          },
          "metadata": {
            "tags": []
          },
          "execution_count": 8
        }
      ]
    },
    {
      "cell_type": "code",
      "metadata": {
        "id": "CIdAdI5uaoeI",
        "colab_type": "code",
        "colab": {}
      },
      "source": [
        "X_temp, X_test, y_temp, y_test = train_test_split(df.drop(['label'],axis=1), pd.DataFrame(df['label']), test_size=0.1, stratify=df['label'])"
      ],
      "execution_count": 9,
      "outputs": []
    },
    {
      "cell_type": "code",
      "metadata": {
        "id": "lsdyMjUpaoeK",
        "colab_type": "code",
        "colab": {
          "base_uri": "https://localhost:8080/",
          "height": 35
        },
        "outputId": "ad28f8ae-8119-4324-bd00-8db2b55e4ced"
      },
      "source": [
        "X_test.shape, X_temp.shape, y_test.shape, y_temp.shape"
      ],
      "execution_count": 10,
      "outputs": [
        {
          "output_type": "execute_result",
          "data": {
            "text/plain": [
              "((2953, 2), (26577, 2), (2953, 1), (26577, 1))"
            ]
          },
          "metadata": {
            "tags": []
          },
          "execution_count": 10
        }
      ]
    },
    {
      "cell_type": "code",
      "metadata": {
        "id": "86UFTYVtaoeV",
        "colab_type": "code",
        "colab": {}
      },
      "source": [
        "X_temp['label'] = y_temp"
      ],
      "execution_count": 11,
      "outputs": []
    },
    {
      "cell_type": "code",
      "metadata": {
        "id": "XgNv68FxaoeX",
        "colab_type": "code",
        "colab": {
          "base_uri": "https://localhost:8080/",
          "height": 202
        },
        "outputId": "13fb831b-ccb2-4860-d8f6-8b47bd93fa16"
      },
      "source": [
        "X_temp.head()"
      ],
      "execution_count": 12,
      "outputs": [
        {
          "output_type": "execute_result",
          "data": {
            "text/html": [
              "<div>\n",
              "<style scoped>\n",
              "    .dataframe tbody tr th:only-of-type {\n",
              "        vertical-align: middle;\n",
              "    }\n",
              "\n",
              "    .dataframe tbody tr th {\n",
              "        vertical-align: top;\n",
              "    }\n",
              "\n",
              "    .dataframe thead th {\n",
              "        text-align: right;\n",
              "    }\n",
              "</style>\n",
              "<table border=\"1\" class=\"dataframe\">\n",
              "  <thead>\n",
              "    <tr style=\"text-align: right;\">\n",
              "      <th></th>\n",
              "      <th>clean_tweet</th>\n",
              "      <th>Hashtags</th>\n",
              "      <th>label</th>\n",
              "    </tr>\n",
              "  </thead>\n",
              "  <tbody>\n",
              "    <tr>\n",
              "      <th>15070</th>\n",
              "      <td>n #healthi pain feel today strength feel tomor...</td>\n",
              "      <td>#healthy</td>\n",
              "      <td>0</td>\n",
              "    </tr>\n",
              "    <tr>\n",
              "      <th>9541</th>\n",
              "      <td>i'm happi clap along feel like happi truth ......</td>\n",
              "      <td>#pharrellwilliams</td>\n",
              "      <td>0</td>\n",
              "    </tr>\n",
              "    <tr>\n",
              "      <th>2962</th>\n",
              "      <td>enjoy sunshine#sunshin</td>\n",
              "      <td>No hashtags</td>\n",
              "      <td>0</td>\n",
              "    </tr>\n",
              "    <tr>\n",
              "      <th>5789</th>\n",
              "      <td>advice: alway listen voic head. may alway righ...</td>\n",
              "      <td>No hashtags</td>\n",
              "      <td>0</td>\n",
              "    </tr>\n",
              "    <tr>\n",
              "      <th>18970</th>\n",
              "      <td>jams+blanket=a good ride conceda$?i, #can'twait</td>\n",
              "      <td>#can'twait</td>\n",
              "      <td>0</td>\n",
              "    </tr>\n",
              "  </tbody>\n",
              "</table>\n",
              "</div>"
            ],
            "text/plain": [
              "                                             clean_tweet  ... label\n",
              "15070  n #healthi pain feel today strength feel tomor...  ...     0\n",
              "9541   i'm happi clap along feel like happi truth ......  ...     0\n",
              "2962                              enjoy sunshine#sunshin  ...     0\n",
              "5789   advice: alway listen voic head. may alway righ...  ...     0\n",
              "18970    jams+blanket=a good ride conceda$?i, #can'twait  ...     0\n",
              "\n",
              "[5 rows x 3 columns]"
            ]
          },
          "metadata": {
            "tags": []
          },
          "execution_count": 12
        }
      ]
    },
    {
      "cell_type": "code",
      "metadata": {
        "id": "FH218KYlaoef",
        "colab_type": "code",
        "colab": {}
      },
      "source": [
        "nonhate = X_temp[X_temp['label'] == 0]"
      ],
      "execution_count": 13,
      "outputs": []
    },
    {
      "cell_type": "code",
      "metadata": {
        "id": "812Xh5hHaoeh",
        "colab_type": "code",
        "colab": {
          "base_uri": "https://localhost:8080/",
          "height": 35
        },
        "outputId": "ad2aa893-e7c5-4715-ccfc-1fe78cdeb362"
      },
      "source": [
        "nonhate.shape[0]"
      ],
      "execution_count": 14,
      "outputs": [
        {
          "output_type": "execute_result",
          "data": {
            "text/plain": [
              "24765"
            ]
          },
          "metadata": {
            "tags": []
          },
          "execution_count": 14
        }
      ]
    },
    {
      "cell_type": "code",
      "metadata": {
        "id": "FSQnY1RIaoej",
        "colab_type": "code",
        "colab": {}
      },
      "source": [
        "hate = X_temp[X_temp.label == 1]"
      ],
      "execution_count": 15,
      "outputs": []
    },
    {
      "cell_type": "code",
      "metadata": {
        "id": "8ZxV_c8Iaoel",
        "colab_type": "code",
        "colab": {
          "base_uri": "https://localhost:8080/",
          "height": 35
        },
        "outputId": "810c0283-dded-48df-af57-993c7c68ee9b"
      },
      "source": [
        "hate.shape[0]"
      ],
      "execution_count": 16,
      "outputs": [
        {
          "output_type": "execute_result",
          "data": {
            "text/plain": [
              "1812"
            ]
          },
          "metadata": {
            "tags": []
          },
          "execution_count": 16
        }
      ]
    },
    {
      "cell_type": "code",
      "metadata": {
        "id": "APeO5Zooaoem",
        "colab_type": "code",
        "colab": {}
      },
      "source": [
        "nonhatesample = nonhate.sample(n = hate.shape[0])"
      ],
      "execution_count": 17,
      "outputs": []
    },
    {
      "cell_type": "code",
      "metadata": {
        "id": "I8EYYTkiaoep",
        "colab_type": "code",
        "colab": {
          "base_uri": "https://localhost:8080/",
          "height": 35
        },
        "outputId": "ad350c66-9ed8-4cd5-cc38-0bebe71ac467"
      },
      "source": [
        "nonhatesample.shape"
      ],
      "execution_count": 18,
      "outputs": [
        {
          "output_type": "execute_result",
          "data": {
            "text/plain": [
              "(1812, 3)"
            ]
          },
          "metadata": {
            "tags": []
          },
          "execution_count": 18
        }
      ]
    },
    {
      "cell_type": "code",
      "metadata": {
        "id": "7LjKaE1Kaoex",
        "colab_type": "code",
        "colab": {}
      },
      "source": [
        "X_train = pd.concat([hate, nonhatesample], axis = 0)\n",
        "y_train = X_train['label']\n",
        "X_train.drop('label',axis=1,inplace=True)"
      ],
      "execution_count": 19,
      "outputs": []
    },
    {
      "cell_type": "code",
      "metadata": {
        "id": "SMlCVXf5aoe2",
        "colab_type": "code",
        "colab": {
          "base_uri": "https://localhost:8080/",
          "height": 202
        },
        "outputId": "d62d04c4-d724-4f68-b1e5-e949d5fd778f"
      },
      "source": [
        "X_train.head()"
      ],
      "execution_count": 20,
      "outputs": [
        {
          "output_type": "execute_result",
          "data": {
            "text/html": [
              "<div>\n",
              "<style scoped>\n",
              "    .dataframe tbody tr th:only-of-type {\n",
              "        vertical-align: middle;\n",
              "    }\n",
              "\n",
              "    .dataframe tbody tr th {\n",
              "        vertical-align: top;\n",
              "    }\n",
              "\n",
              "    .dataframe thead th {\n",
              "        text-align: right;\n",
              "    }\n",
              "</style>\n",
              "<table border=\"1\" class=\"dataframe\">\n",
              "  <thead>\n",
              "    <tr style=\"text-align: right;\">\n",
              "      <th></th>\n",
              "      <th>clean_tweet</th>\n",
              "      <th>Hashtags</th>\n",
              "    </tr>\n",
              "  </thead>\n",
              "  <tbody>\n",
              "    <tr>\n",
              "      <th>2997</th>\n",
              "      <td>\"the holiday violent time me, iav begun questi...</td>\n",
              "      <td>#chria|</td>\n",
              "    </tr>\n",
              "    <tr>\n",
              "      <th>10030</th>\n",
              "      <td>\"most boy use drill...\" really? :-)</td>\n",
              "      <td>No hashtags</td>\n",
              "    </tr>\n",
              "    <tr>\n",
              "      <th>4906</th>\n",
              "      <td>think w share guarani aquif water w humili lit...</td>\n",
              "      <td>No hashtags</td>\n",
              "    </tr>\n",
              "    <tr>\n",
              "      <th>8458</th>\n",
              "      <td>#trump guilti treason ! #theresist must #resis...</td>\n",
              "      <td>#trump #theresistance #resist #hate</td>\n",
              "    </tr>\n",
              "    <tr>\n",
              "      <th>8209</th>\n",
              "      <td>express , #misandry, #misogyni (ie #power) pa ...</td>\n",
              "      <td>#misandry, #misogyny #power)</td>\n",
              "    </tr>\n",
              "  </tbody>\n",
              "</table>\n",
              "</div>"
            ],
            "text/plain": [
              "                                             clean_tweet                             Hashtags\n",
              "2997   \"the holiday violent time me, iav begun questi...                              #chria|\n",
              "10030                \"most boy use drill...\" really? :-)                          No hashtags\n",
              "4906   think w share guarani aquif water w humili lit...                          No hashtags\n",
              "8458   #trump guilti treason ! #theresist must #resis...  #trump #theresistance #resist #hate\n",
              "8209   express , #misandry, #misogyni (ie #power) pa ...         #misandry, #misogyny #power)"
            ]
          },
          "metadata": {
            "tags": []
          },
          "execution_count": 20
        }
      ]
    },
    {
      "cell_type": "code",
      "metadata": {
        "id": "YKZR8D7Raoe4",
        "colab_type": "code",
        "colab": {
          "base_uri": "https://localhost:8080/",
          "height": 35
        },
        "outputId": "bba22722-a29d-4b4f-bfb7-faafcf5f6450"
      },
      "source": [
        "X_train.shape"
      ],
      "execution_count": 21,
      "outputs": [
        {
          "output_type": "execute_result",
          "data": {
            "text/plain": [
              "(3624, 2)"
            ]
          },
          "metadata": {
            "tags": []
          },
          "execution_count": 21
        }
      ]
    },
    {
      "cell_type": "code",
      "metadata": {
        "id": "gQ-nxrYsaofR",
        "colab_type": "code",
        "colab": {}
      },
      "source": [
        "def make_corpus(df):\n",
        "  corpus = []\n",
        "  for i in df:\n",
        "    corpus.append(i)\n",
        "  \n",
        "  return corpus"
      ],
      "execution_count": 22,
      "outputs": []
    },
    {
      "cell_type": "markdown",
      "metadata": {
        "id": "PQ3WHI5-AAg4",
        "colab_type": "text"
      },
      "source": [
        "### Creating Bag Of Words"
      ]
    },
    {
      "cell_type": "code",
      "metadata": {
        "id": "XuSaJ4ahaofW",
        "colab_type": "code",
        "colab": {}
      },
      "source": [
        "# for training data\n",
        "vectorizer_train = CountVectorizer(max_features=1000)\n",
        "vocabulary_train = vectorizer_train.fit_transform(make_corpus(X_train['clean_tweet']))\n",
        "bow_train = vocabulary_train.toarray()\n",
        "\n",
        "# for testing data\n",
        "vectorizer_test = CountVectorizer(max_features=1000)\n",
        "vocabulary_test = vectorizer_test.fit_transform(make_corpus(X_test['clean_tweet']))\n",
        "bow_test = vocabulary_test.toarray()"
      ],
      "execution_count": 66,
      "outputs": []
    },
    {
      "cell_type": "markdown",
      "metadata": {
        "id": "Aoz0eZETKNzR",
        "colab_type": "text"
      },
      "source": [
        "### Creating TF-IDF "
      ]
    },
    {
      "cell_type": "code",
      "metadata": {
        "id": "SxMJTBy9aofY",
        "colab_type": "code",
        "colab": {}
      },
      "source": [
        "#for training data\n",
        "vectorizer1 = TfidfVectorizer(max_features=1000)\n",
        "X1 = vectorizer1.fit_transform(make_corpus(X_train.clean_tweet))\n",
        "feature_names1 = vectorizer1.get_feature_names()\n",
        "denselist1 = X1.todense().tolist()\n",
        "tfdf_train = pd.DataFrame(denselist1, columns=feature_names1)\n",
        "\n",
        "#for testing data\n",
        "vectorizer2 = TfidfVectorizer(max_features=1000)\n",
        "X2 = vectorizer2.fit_transform(make_corpus(X_test.clean_tweet))\n",
        "feature_names2 = vectorizer2.get_feature_names()\n",
        "denselist2 = X2.todense().tolist()\n",
        "tfdf_test = pd.DataFrame(denselist2, columns=feature_names2)\n"
      ],
      "execution_count": 67,
      "outputs": []
    },
    {
      "cell_type": "markdown",
      "metadata": {
        "id": "WiMk3Ivd9HM4",
        "colab_type": "text"
      },
      "source": [
        "# Building ML models"
      ]
    },
    {
      "cell_type": "code",
      "metadata": {
        "id": "8O5bLLP-aof-",
        "colab_type": "code",
        "colab": {}
      },
      "source": [
        "from sklearn.linear_model import LogisticRegression\n",
        "from sklearn.naive_bayes import GaussianNB\n",
        "from sklearn.ensemble import RandomForestClassifier\n",
        "from sklearn.tree import DecisionTreeClassifier\n",
        "from sklearn.neighbors import KNeighborsClassifier\n",
        "from sklearn.ensemble import GradientBoostingClassifier\n",
        "\n",
        "from sklearn import metrics\n",
        "import matplotlib.pyplot as plt\n",
        "%matplotlib inline\n",
        "from sklearn.metrics import plot_confusion_matrix\n",
        "from sklearn.metrics import precision_score, recall_score\n",
        "import seaborn as sns"
      ],
      "execution_count": 93,
      "outputs": []
    },
    {
      "cell_type": "code",
      "metadata": {
        "id": "Scmhr3J-FrZL",
        "colab_type": "code",
        "colab": {}
      },
      "source": [
        "model = ['LR','RF','DT','KN','GN','GB']\n",
        "accuracy = {'BOW':[], 'TF-IDF':[]}\n",
        "recall = {'BOW':[], 'TF-IDF':[]}"
      ],
      "execution_count": 79,
      "outputs": []
    },
    {
      "cell_type": "markdown",
      "metadata": {
        "id": "wD_v8Ppb_sXY",
        "colab_type": "text"
      },
      "source": [
        "### Logistic Regression"
      ]
    },
    {
      "cell_type": "code",
      "metadata": {
        "id": "JeXmoYnV-CtQ",
        "colab_type": "code",
        "colab": {}
      },
      "source": [
        "#BOW\n",
        "regressor_LR_bow = LogisticRegression()\n",
        "regressor_LR_bow.fit(bow_train,y_train)\n",
        "y_predict_LR_bow = regressor_LR_bow.predict(bow_test)\n",
        "accuracy['BOW'].append(regressor_LR_bow.score(bow_train,y_train))\n",
        "recall['BOW'].append(recall_score(y_test, y_predict_LR_bow))\n",
        "\n",
        "#TF-IDF\n",
        "regressor_LR_tf = LogisticRegression()\n",
        "regressor_LR_tf.fit(tfdf_train,y_train)\n",
        "y_predict_LR_tf = regressor_LR_tf.predict(tfdf_test)\n",
        "accuracy['TF-IDF'].append(regressor_LR_tf.score(tfdf_train,y_train))\n",
        "recall['TF-IDF'].append(recall_score(y_test, y_predict_LR_tf))"
      ],
      "execution_count": 80,
      "outputs": []
    },
    {
      "cell_type": "code",
      "metadata": {
        "id": "Xo0lOfHhiwvE",
        "colab_type": "code",
        "colab": {
          "base_uri": "https://localhost:8080/",
          "height": 110
        },
        "outputId": "231e4b5d-d606-48f0-b241-0d08446e5b78"
      },
      "source": [
        "pd.DataFrame(data=[['BOW',regressor_LR_bow.score(bow_train,y_train),recall_score(y_test, y_predict_LR_bow)],\n",
        "                   ['TF-IDF',regressor_LR_tf.score(tfdf_train,y_train),recall_score(y_test, y_predict_LR_tf)]],\n",
        "             columns=['','Accuracy','Recall'])"
      ],
      "execution_count": 81,
      "outputs": [
        {
          "output_type": "execute_result",
          "data": {
            "text/html": [
              "<div>\n",
              "<style scoped>\n",
              "    .dataframe tbody tr th:only-of-type {\n",
              "        vertical-align: middle;\n",
              "    }\n",
              "\n",
              "    .dataframe tbody tr th {\n",
              "        vertical-align: top;\n",
              "    }\n",
              "\n",
              "    .dataframe thead th {\n",
              "        text-align: right;\n",
              "    }\n",
              "</style>\n",
              "<table border=\"1\" class=\"dataframe\">\n",
              "  <thead>\n",
              "    <tr style=\"text-align: right;\">\n",
              "      <th></th>\n",
              "      <th></th>\n",
              "      <th>Accuracy</th>\n",
              "      <th>Recall</th>\n",
              "    </tr>\n",
              "  </thead>\n",
              "  <tbody>\n",
              "    <tr>\n",
              "      <th>0</th>\n",
              "      <td>BOW</td>\n",
              "      <td>0.911424</td>\n",
              "      <td>0.502488</td>\n",
              "    </tr>\n",
              "    <tr>\n",
              "      <th>1</th>\n",
              "      <td>TF-IDF</td>\n",
              "      <td>0.895695</td>\n",
              "      <td>0.517413</td>\n",
              "    </tr>\n",
              "  </tbody>\n",
              "</table>\n",
              "</div>"
            ],
            "text/plain": [
              "           Accuracy    Recall\n",
              "0     BOW  0.911424  0.502488\n",
              "1  TF-IDF  0.895695  0.517413"
            ]
          },
          "metadata": {
            "tags": []
          },
          "execution_count": 81
        }
      ]
    },
    {
      "cell_type": "markdown",
      "metadata": {
        "id": "96PcU6VMIf1Y",
        "colab_type": "text"
      },
      "source": [
        "### Random Forest"
      ]
    },
    {
      "cell_type": "code",
      "metadata": {
        "id": "7_XAMo_WIZSJ",
        "colab_type": "code",
        "colab": {}
      },
      "source": [
        "#BOW\n",
        "model_RF_bow = RandomForestClassifier()\n",
        "model_RF_bow.fit(bow_train,y_train)\n",
        "y_predict_RF_bow = model_RF_bow.predict(bow_test)\n",
        "accuracy['BOW'].append(model_RF_bow.score(bow_train,y_train))\n",
        "recall['BOW'].append(recall_score(y_test, y_predict_RF_bow))\n",
        "\n",
        "#TF-IDF\n",
        "model_RF_tf = RandomForestClassifier()\n",
        "model_RF_tf.fit(tfdf_train,y_train)\n",
        "y_predict_RF_tf = model_RF_tf.predict(tfdf_test)\n",
        "accuracy['TF-IDF'].append(model_RF_tf.score(tfdf_train,y_train))\n",
        "recall['TF-IDF'].append(recall_score(y_test, y_predict_RF_tf))"
      ],
      "execution_count": 82,
      "outputs": []
    },
    {
      "cell_type": "code",
      "metadata": {
        "id": "gkHhcJt8kU2X",
        "colab_type": "code",
        "colab": {
          "base_uri": "https://localhost:8080/",
          "height": 110
        },
        "outputId": "4a1280e2-8b62-4035-8c10-3300cdfe973f"
      },
      "source": [
        "pd.DataFrame(data=[['BOW',model_RF_bow.score(bow_train,y_train),recall_score(y_test, y_predict_RF_bow)],\n",
        "                   ['TF-IDF',model_RF_tf.score(tfdf_train,y_train),recall_score(y_test, y_predict_RF_tf)]],\n",
        "             columns=['','Accuracy','Recall'])"
      ],
      "execution_count": 83,
      "outputs": [
        {
          "output_type": "execute_result",
          "data": {
            "text/html": [
              "<div>\n",
              "<style scoped>\n",
              "    .dataframe tbody tr th:only-of-type {\n",
              "        vertical-align: middle;\n",
              "    }\n",
              "\n",
              "    .dataframe tbody tr th {\n",
              "        vertical-align: top;\n",
              "    }\n",
              "\n",
              "    .dataframe thead th {\n",
              "        text-align: right;\n",
              "    }\n",
              "</style>\n",
              "<table border=\"1\" class=\"dataframe\">\n",
              "  <thead>\n",
              "    <tr style=\"text-align: right;\">\n",
              "      <th></th>\n",
              "      <th></th>\n",
              "      <th>Accuracy</th>\n",
              "      <th>Recall</th>\n",
              "    </tr>\n",
              "  </thead>\n",
              "  <tbody>\n",
              "    <tr>\n",
              "      <th>0</th>\n",
              "      <td>BOW</td>\n",
              "      <td>0.990066</td>\n",
              "      <td>0.577114</td>\n",
              "    </tr>\n",
              "    <tr>\n",
              "      <th>1</th>\n",
              "      <td>TF-IDF</td>\n",
              "      <td>0.990066</td>\n",
              "      <td>0.487562</td>\n",
              "    </tr>\n",
              "  </tbody>\n",
              "</table>\n",
              "</div>"
            ],
            "text/plain": [
              "           Accuracy    Recall\n",
              "0     BOW  0.990066  0.577114\n",
              "1  TF-IDF  0.990066  0.487562"
            ]
          },
          "metadata": {
            "tags": []
          },
          "execution_count": 83
        }
      ]
    },
    {
      "cell_type": "markdown",
      "metadata": {
        "id": "tNAUfbgyJOCQ",
        "colab_type": "text"
      },
      "source": [
        "### Decision Tree"
      ]
    },
    {
      "cell_type": "code",
      "metadata": {
        "id": "yg2RwcIwIbIs",
        "colab_type": "code",
        "colab": {}
      },
      "source": [
        "#BOW\n",
        "model_DT_bow = DecisionTreeClassifier() \n",
        "model_DT_bow.fit(bow_train,y_train)\n",
        "y_predict_DT_bow = model_DT_bow.predict(bow_test)\n",
        "accuracy['BOW'].append(model_DT_bow.score(bow_train,y_train))\n",
        "recall['BOW'].append(recall_score(y_test, y_predict_DT_bow))\n",
        "\n",
        "#TF-IDF\n",
        "model_DT_tf = DecisionTreeClassifier() \n",
        "model_DT_tf.fit(tfdf_train,y_train)\n",
        "y_predict_DT_tf = model_DT_tf.predict(tfdf_test)\n",
        "accuracy['TF-IDF'].append(model_DT_tf.score(tfdf_train,y_train))\n",
        "recall['TF-IDF'].append(recall_score(y_test, y_predict_DT_tf))\n"
      ],
      "execution_count": 84,
      "outputs": []
    },
    {
      "cell_type": "code",
      "metadata": {
        "id": "qA1mDJeHkdCs",
        "colab_type": "code",
        "colab": {
          "base_uri": "https://localhost:8080/",
          "height": 110
        },
        "outputId": "c2e97f54-e419-484f-ed4d-e42399d370bb"
      },
      "source": [
        "pd.DataFrame(data=[['BOW',model_DT_bow.score(bow_train,y_train),recall_score(y_test, y_predict_DT_bow)],\n",
        "                   ['TF-IDF',model_DT_tf.score(tfdf_train,y_train),recall_score(y_test, y_predict_DT_tf)]],\n",
        "             columns=['','Accuracy','Recall'])"
      ],
      "execution_count": 85,
      "outputs": [
        {
          "output_type": "execute_result",
          "data": {
            "text/html": [
              "<div>\n",
              "<style scoped>\n",
              "    .dataframe tbody tr th:only-of-type {\n",
              "        vertical-align: middle;\n",
              "    }\n",
              "\n",
              "    .dataframe tbody tr th {\n",
              "        vertical-align: top;\n",
              "    }\n",
              "\n",
              "    .dataframe thead th {\n",
              "        text-align: right;\n",
              "    }\n",
              "</style>\n",
              "<table border=\"1\" class=\"dataframe\">\n",
              "  <thead>\n",
              "    <tr style=\"text-align: right;\">\n",
              "      <th></th>\n",
              "      <th></th>\n",
              "      <th>Accuracy</th>\n",
              "      <th>Recall</th>\n",
              "    </tr>\n",
              "  </thead>\n",
              "  <tbody>\n",
              "    <tr>\n",
              "      <th>0</th>\n",
              "      <td>BOW</td>\n",
              "      <td>0.990066</td>\n",
              "      <td>0.532338</td>\n",
              "    </tr>\n",
              "    <tr>\n",
              "      <th>1</th>\n",
              "      <td>TF-IDF</td>\n",
              "      <td>0.990066</td>\n",
              "      <td>0.452736</td>\n",
              "    </tr>\n",
              "  </tbody>\n",
              "</table>\n",
              "</div>"
            ],
            "text/plain": [
              "           Accuracy    Recall\n",
              "0     BOW  0.990066  0.532338\n",
              "1  TF-IDF  0.990066  0.452736"
            ]
          },
          "metadata": {
            "tags": []
          },
          "execution_count": 85
        }
      ]
    },
    {
      "cell_type": "markdown",
      "metadata": {
        "id": "pVN6JcM3Jx3G",
        "colab_type": "text"
      },
      "source": [
        "### K neighbors"
      ]
    },
    {
      "cell_type": "code",
      "metadata": {
        "id": "iWlQYFGpIaZ2",
        "colab_type": "code",
        "colab": {}
      },
      "source": [
        "#BOW\n",
        "model_KN_bow = DecisionTreeClassifier() \n",
        "model_KN_bow.fit(bow_train,y_train)\n",
        "y_predict_KN_bow = model_KN_bow.predict(bow_test)\n",
        "accuracy['BOW'].append(model_KN_bow.score(bow_train,y_train))\n",
        "recall['BOW'].append(recall_score(y_test, y_predict_KN_bow))\n",
        "\n",
        "#TF-IDF\n",
        "model_KN_tf = DecisionTreeClassifier() \n",
        "model_KN_tf.fit(tfdf_train,y_train)\n",
        "y_predict_KN_tf = model_KN_tf.predict(tfdf_test)\n",
        "accuracy['TF-IDF'].append(model_KN_tf.score(tfdf_train,y_train))\n",
        "recall['TF-IDF'].append(recall_score(y_test, y_predict_KN_tf))"
      ],
      "execution_count": 86,
      "outputs": []
    },
    {
      "cell_type": "code",
      "metadata": {
        "id": "bTQK3gchkkav",
        "colab_type": "code",
        "colab": {
          "base_uri": "https://localhost:8080/",
          "height": 110
        },
        "outputId": "30011dc3-06b5-4871-84ec-b23430cca21f"
      },
      "source": [
        "pd.DataFrame(data=[['BOW',model_KN_bow.score(bow_train,y_train),recall_score(y_test, y_predict_KN_bow)],\n",
        "                   ['TF-IDF',model_KN_tf.score(tfdf_train,y_train),recall_score(y_test, y_predict_KN_tf)]],\n",
        "             columns=['','Accuracy','Recall'])"
      ],
      "execution_count": 87,
      "outputs": [
        {
          "output_type": "execute_result",
          "data": {
            "text/html": [
              "<div>\n",
              "<style scoped>\n",
              "    .dataframe tbody tr th:only-of-type {\n",
              "        vertical-align: middle;\n",
              "    }\n",
              "\n",
              "    .dataframe tbody tr th {\n",
              "        vertical-align: top;\n",
              "    }\n",
              "\n",
              "    .dataframe thead th {\n",
              "        text-align: right;\n",
              "    }\n",
              "</style>\n",
              "<table border=\"1\" class=\"dataframe\">\n",
              "  <thead>\n",
              "    <tr style=\"text-align: right;\">\n",
              "      <th></th>\n",
              "      <th></th>\n",
              "      <th>Accuracy</th>\n",
              "      <th>Recall</th>\n",
              "    </tr>\n",
              "  </thead>\n",
              "  <tbody>\n",
              "    <tr>\n",
              "      <th>0</th>\n",
              "      <td>BOW</td>\n",
              "      <td>0.990066</td>\n",
              "      <td>0.577114</td>\n",
              "    </tr>\n",
              "    <tr>\n",
              "      <th>1</th>\n",
              "      <td>TF-IDF</td>\n",
              "      <td>0.990066</td>\n",
              "      <td>0.477612</td>\n",
              "    </tr>\n",
              "  </tbody>\n",
              "</table>\n",
              "</div>"
            ],
            "text/plain": [
              "           Accuracy    Recall\n",
              "0     BOW  0.990066  0.577114\n",
              "1  TF-IDF  0.990066  0.477612"
            ]
          },
          "metadata": {
            "tags": []
          },
          "execution_count": 87
        }
      ]
    },
    {
      "cell_type": "markdown",
      "metadata": {
        "id": "DZX9peN-KBd3",
        "colab_type": "text"
      },
      "source": [
        "### GaussianNB"
      ]
    },
    {
      "cell_type": "code",
      "metadata": {
        "id": "0bGvrrRdJ-an",
        "colab_type": "code",
        "colab": {}
      },
      "source": [
        "#BOW\n",
        "model_GN_bow = GaussianNB() \n",
        "model_GN_bow.fit(bow_train,y_train)\n",
        "y_predict_GN_bow = model_GN_bow.predict(bow_test)\n",
        "accuracy['BOW'].append(model_GN_bow.score(bow_train,y_train))\n",
        "recall['BOW'].append(recall_score(y_test, y_predict_GN_bow))\n",
        "\n",
        "#TF-IDF\n",
        "model_GN_tf = DecisionTreeClassifier() \n",
        "model_GN_tf.fit(tfdf_train,y_train)\n",
        "y_predict_GN_tf = model_GN_tf.predict(tfdf_test)\n",
        "accuracy['TF-IDF'].append(model_GN_tf.score(tfdf_train,y_train))\n",
        "recall['TF-IDF'].append(recall_score(y_test, y_predict_GN_tf))"
      ],
      "execution_count": 88,
      "outputs": []
    },
    {
      "cell_type": "code",
      "metadata": {
        "id": "UWsvsJGiktU_",
        "colab_type": "code",
        "colab": {
          "base_uri": "https://localhost:8080/",
          "height": 110
        },
        "outputId": "ee818bc5-c396-4ecf-d89c-254200d2b07e"
      },
      "source": [
        "pd.DataFrame(data=[['BOW',model_GN_bow.score(bow_train,y_train),recall_score(y_test, y_predict_GN_bow)],\n",
        "                   ['TF-IDF',model_GN_tf.score(tfdf_train,y_train),recall_score(y_test, y_predict_GN_tf)]],\n",
        "             columns=['','Accuracy','Recall'])"
      ],
      "execution_count": 89,
      "outputs": [
        {
          "output_type": "execute_result",
          "data": {
            "text/html": [
              "<div>\n",
              "<style scoped>\n",
              "    .dataframe tbody tr th:only-of-type {\n",
              "        vertical-align: middle;\n",
              "    }\n",
              "\n",
              "    .dataframe tbody tr th {\n",
              "        vertical-align: top;\n",
              "    }\n",
              "\n",
              "    .dataframe thead th {\n",
              "        text-align: right;\n",
              "    }\n",
              "</style>\n",
              "<table border=\"1\" class=\"dataframe\">\n",
              "  <thead>\n",
              "    <tr style=\"text-align: right;\">\n",
              "      <th></th>\n",
              "      <th></th>\n",
              "      <th>Accuracy</th>\n",
              "      <th>Recall</th>\n",
              "    </tr>\n",
              "  </thead>\n",
              "  <tbody>\n",
              "    <tr>\n",
              "      <th>0</th>\n",
              "      <td>BOW</td>\n",
              "      <td>0.822848</td>\n",
              "      <td>0.398010</td>\n",
              "    </tr>\n",
              "    <tr>\n",
              "      <th>1</th>\n",
              "      <td>TF-IDF</td>\n",
              "      <td>0.990066</td>\n",
              "      <td>0.472637</td>\n",
              "    </tr>\n",
              "  </tbody>\n",
              "</table>\n",
              "</div>"
            ],
            "text/plain": [
              "           Accuracy    Recall\n",
              "0     BOW  0.822848  0.398010\n",
              "1  TF-IDF  0.990066  0.472637"
            ]
          },
          "metadata": {
            "tags": []
          },
          "execution_count": 89
        }
      ]
    },
    {
      "cell_type": "markdown",
      "metadata": {
        "id": "rWxw1Bb-DWeb",
        "colab_type": "text"
      },
      "source": [
        "### Gradient Boosting"
      ]
    },
    {
      "cell_type": "code",
      "metadata": {
        "id": "PoSdU8CwDXqp",
        "colab_type": "code",
        "colab": {}
      },
      "source": [
        "#BOW\n",
        "model_GB_bow = GradientBoostingClassifier()\n",
        "model_GB_bow.fit(bow_train,y_train)\n",
        "y_predict_GB_bow = model_GB_bow.predict(bow_test)\n",
        "accuracy['BOW'].append(model_GB_bow.score(bow_train,y_train))\n",
        "recall['BOW'].append(recall_score(y_test, y_predict_GB_bow))\n",
        "\n",
        "#TF-IDF\n",
        "model_GB_tf = DecisionTreeClassifier() \n",
        "model_GB_tf.fit(tfdf_train,y_train)\n",
        "y_predict_GB_tf = model_GB_tf.predict(tfdf_test)\n",
        "accuracy['TF-IDF'].append(model_GB_tf.score(tfdf_train,y_train))\n",
        "recall['TF-IDF'].append(recall_score(y_test, y_predict_GB_tf))"
      ],
      "execution_count": 94,
      "outputs": []
    },
    {
      "cell_type": "code",
      "metadata": {
        "id": "o875jp8Skz3m",
        "colab_type": "code",
        "colab": {
          "base_uri": "https://localhost:8080/",
          "height": 110
        },
        "outputId": "0f9205de-96d6-47a8-ca5c-6899e44b973f"
      },
      "source": [
        "pd.DataFrame(data=[['BOW',model_GB_bow.score(bow_train,y_train),recall_score(y_test, y_predict_GB_bow)],\n",
        "                   ['TF-IDF',model_GB_tf.score(tfdf_train,y_train),recall_score(y_test, y_predict_GB_tf)]],\n",
        "             columns=['','Accuracy','Recall'])"
      ],
      "execution_count": 95,
      "outputs": [
        {
          "output_type": "execute_result",
          "data": {
            "text/html": [
              "<div>\n",
              "<style scoped>\n",
              "    .dataframe tbody tr th:only-of-type {\n",
              "        vertical-align: middle;\n",
              "    }\n",
              "\n",
              "    .dataframe tbody tr th {\n",
              "        vertical-align: top;\n",
              "    }\n",
              "\n",
              "    .dataframe thead th {\n",
              "        text-align: right;\n",
              "    }\n",
              "</style>\n",
              "<table border=\"1\" class=\"dataframe\">\n",
              "  <thead>\n",
              "    <tr style=\"text-align: right;\">\n",
              "      <th></th>\n",
              "      <th></th>\n",
              "      <th>Accuracy</th>\n",
              "      <th>Recall</th>\n",
              "    </tr>\n",
              "  </thead>\n",
              "  <tbody>\n",
              "    <tr>\n",
              "      <th>0</th>\n",
              "      <td>BOW</td>\n",
              "      <td>0.806843</td>\n",
              "      <td>0.199005</td>\n",
              "    </tr>\n",
              "    <tr>\n",
              "      <th>1</th>\n",
              "      <td>TF-IDF</td>\n",
              "      <td>0.990066</td>\n",
              "      <td>0.467662</td>\n",
              "    </tr>\n",
              "  </tbody>\n",
              "</table>\n",
              "</div>"
            ],
            "text/plain": [
              "           Accuracy    Recall\n",
              "0     BOW  0.806843  0.199005\n",
              "1  TF-IDF  0.990066  0.467662"
            ]
          },
          "metadata": {
            "tags": []
          },
          "execution_count": 95
        }
      ]
    },
    {
      "cell_type": "markdown",
      "metadata": {
        "id": "CQ0V2EYZKAid",
        "colab_type": "text"
      },
      "source": [
        "# Hyperparameter Tuning"
      ]
    },
    {
      "cell_type": "code",
      "metadata": {
        "id": "KhBiUTIskAxm",
        "colab_type": "code",
        "colab": {}
      },
      "source": [
        "from sklearn.model_selection import GridSearchCV, cross_val_score\n"
      ],
      "execution_count": 100,
      "outputs": []
    },
    {
      "cell_type": "code",
      "metadata": {
        "id": "8yKHFKarkDh_",
        "colab_type": "code",
        "colab": {}
      },
      "source": [
        "param_grid = { \"criterion\" : [\"gini\", \"entropy\"], \n",
        "              \"min_samples_leaf\" : [1, 5, 10], \n",
        "              \"min_samples_split\" : [2, 4, 10, 12], \n",
        "              \"n_estimators\": [100, 400]}"
      ],
      "execution_count": 101,
      "outputs": []
    },
    {
      "cell_type": "code",
      "metadata": {
        "id": "2orNZTbbMIcH",
        "colab_type": "code",
        "colab": {}
      },
      "source": [
        "rf = RandomForestClassifier(n_estimators=100, max_features='auto', oob_score=True, random_state=1, n_jobs=-1)\n",
        "hpt = GridSearchCV(rf, param_grid=param_grid)"
      ],
      "execution_count": 103,
      "outputs": []
    },
    {
      "cell_type": "code",
      "metadata": {
        "id": "hwKSnmhANQvy",
        "colab_type": "code",
        "colab": {
          "base_uri": "https://localhost:8080/",
          "height": 399
        },
        "outputId": "f8cf48ca-5a19-450d-e2ce-2e84fc5ebd4a"
      },
      "source": [
        "hpt.fit(tfdf_train, y_train)"
      ],
      "execution_count": 104,
      "outputs": [
        {
          "output_type": "execute_result",
          "data": {
            "text/plain": [
              "GridSearchCV(cv=None, error_score=nan,\n",
              "             estimator=RandomForestClassifier(bootstrap=True, ccp_alpha=0.0,\n",
              "                                              class_weight=None,\n",
              "                                              criterion='gini', max_depth=None,\n",
              "                                              max_features='auto',\n",
              "                                              max_leaf_nodes=None,\n",
              "                                              max_samples=None,\n",
              "                                              min_impurity_decrease=0.0,\n",
              "                                              min_impurity_split=None,\n",
              "                                              min_samples_leaf=1,\n",
              "                                              min_samples_split=2,\n",
              "                                              min_weight_fraction_leaf=0.0,\n",
              "                                              n_estimators=100, n_jobs=-1,\n",
              "                                              oob_score=True, random_state=1,\n",
              "                                              verbose=0, warm_start=False),\n",
              "             iid='deprecated', n_jobs=None,\n",
              "             param_grid={'criterion': ['gini', 'entropy'],\n",
              "                         'min_samples_leaf': [1, 5, 10],\n",
              "                         'min_samples_split': [2, 4, 10, 12],\n",
              "                         'n_estimators': [100, 400]},\n",
              "             pre_dispatch='2*n_jobs', refit=True, return_train_score=False,\n",
              "             scoring=None, verbose=0)"
            ]
          },
          "metadata": {
            "tags": []
          },
          "execution_count": 104
        }
      ]
    },
    {
      "cell_type": "code",
      "metadata": {
        "id": "6OHUyP29ToVG",
        "colab_type": "code",
        "colab": {
          "base_uri": "https://localhost:8080/",
          "height": 87
        },
        "outputId": "19983bd3-ed46-48e6-9b8c-95a6fd4fa4c7"
      },
      "source": [
        "hpt.best_params_"
      ],
      "execution_count": 105,
      "outputs": [
        {
          "output_type": "execute_result",
          "data": {
            "text/plain": [
              "{'criterion': 'gini',\n",
              " 'min_samples_leaf': 1,\n",
              " 'min_samples_split': 2,\n",
              " 'n_estimators': 100}"
            ]
          },
          "metadata": {
            "tags": []
          },
          "execution_count": 105
        }
      ]
    },
    {
      "cell_type": "code",
      "metadata": {
        "id": "nUV9Q79QXMyH",
        "colab_type": "code",
        "colab": {
          "base_uri": "https://localhost:8080/",
          "height": 35
        },
        "outputId": "d045fb7b-12cd-43bc-c496-39d4329b5ca6"
      },
      "source": [
        "rf = RandomForestClassifier(criterion='gini', min_samples_leaf=1, min_samples_split=2, n_estimators=100)\n",
        "rf.fit(bow_train, y_train)\n",
        "y_predict = rf.predict(bow_test)\n",
        "recall_score(y_test,y_predict)"
      ],
      "execution_count": 106,
      "outputs": [
        {
          "output_type": "execute_result",
          "data": {
            "text/plain": [
              "0.5621890547263682"
            ]
          },
          "metadata": {
            "tags": []
          },
          "execution_count": 106
        }
      ]
    },
    {
      "cell_type": "markdown",
      "metadata": {
        "id": "jJ5pGCGH0aJC",
        "colab_type": "text"
      },
      "source": [
        "# Evaluation\n"
      ]
    },
    {
      "cell_type": "code",
      "metadata": {
        "id": "41E1-wVuKMIp",
        "colab_type": "code",
        "colab": {
          "base_uri": "https://localhost:8080/",
          "height": 233
        },
        "outputId": "17e8ae2a-f051-4a82-ae99-c67ecbe2bdf2"
      },
      "source": [
        "data_bow = {'model':model,'accuracy':accuracy['BOW'],'recall':recall['BOW']}\n",
        "compare_models_bow = pd.DataFrame(data_bow)\n",
        "compare_models_bow"
      ],
      "execution_count": 96,
      "outputs": [
        {
          "output_type": "execute_result",
          "data": {
            "text/html": [
              "<div>\n",
              "<style scoped>\n",
              "    .dataframe tbody tr th:only-of-type {\n",
              "        vertical-align: middle;\n",
              "    }\n",
              "\n",
              "    .dataframe tbody tr th {\n",
              "        vertical-align: top;\n",
              "    }\n",
              "\n",
              "    .dataframe thead th {\n",
              "        text-align: right;\n",
              "    }\n",
              "</style>\n",
              "<table border=\"1\" class=\"dataframe\">\n",
              "  <thead>\n",
              "    <tr style=\"text-align: right;\">\n",
              "      <th></th>\n",
              "      <th>model</th>\n",
              "      <th>accuracy</th>\n",
              "      <th>recall</th>\n",
              "    </tr>\n",
              "  </thead>\n",
              "  <tbody>\n",
              "    <tr>\n",
              "      <th>0</th>\n",
              "      <td>LR</td>\n",
              "      <td>0.911424</td>\n",
              "      <td>0.502488</td>\n",
              "    </tr>\n",
              "    <tr>\n",
              "      <th>1</th>\n",
              "      <td>RF</td>\n",
              "      <td>0.990066</td>\n",
              "      <td>0.577114</td>\n",
              "    </tr>\n",
              "    <tr>\n",
              "      <th>2</th>\n",
              "      <td>DT</td>\n",
              "      <td>0.990066</td>\n",
              "      <td>0.532338</td>\n",
              "    </tr>\n",
              "    <tr>\n",
              "      <th>3</th>\n",
              "      <td>KN</td>\n",
              "      <td>0.990066</td>\n",
              "      <td>0.577114</td>\n",
              "    </tr>\n",
              "    <tr>\n",
              "      <th>4</th>\n",
              "      <td>GN</td>\n",
              "      <td>0.822848</td>\n",
              "      <td>0.398010</td>\n",
              "    </tr>\n",
              "    <tr>\n",
              "      <th>5</th>\n",
              "      <td>GB</td>\n",
              "      <td>0.806843</td>\n",
              "      <td>0.199005</td>\n",
              "    </tr>\n",
              "  </tbody>\n",
              "</table>\n",
              "</div>"
            ],
            "text/plain": [
              "  model  accuracy    recall\n",
              "0    LR  0.911424  0.502488\n",
              "1    RF  0.990066  0.577114\n",
              "2    DT  0.990066  0.532338\n",
              "3    KN  0.990066  0.577114\n",
              "4    GN  0.822848  0.398010\n",
              "5    GB  0.806843  0.199005"
            ]
          },
          "metadata": {
            "tags": []
          },
          "execution_count": 96
        }
      ]
    },
    {
      "cell_type": "code",
      "metadata": {
        "id": "WmVWIvZ7Lep0",
        "colab_type": "code",
        "colab": {
          "base_uri": "https://localhost:8080/",
          "height": 281
        },
        "outputId": "32179558-da34-4eac-a40f-08505ebc3a94"
      },
      "source": [
        "acc_bow = plt.bar(compare_models_bow['model'],compare_models_bow['recall'])\n",
        "plt.title('Bag of Words')\n",
        "plt.show()"
      ],
      "execution_count": 97,
      "outputs": [
        {
          "output_type": "display_data",
          "data": {
            "image/png": "[encoded data removed]",
            "text/plain": [
              "<Figure size 432x288 with 1 Axes>"
            ]
          },
          "metadata": {
            "tags": [],
            "needs_background": "light"
          }
        }
      ]
    },
    {
      "cell_type": "code",
      "metadata": {
        "id": "_eRGpRRcsovY",
        "colab_type": "code",
        "colab": {
          "base_uri": "https://localhost:8080/",
          "height": 233
        },
        "outputId": "47ad7656-de31-4838-c169-19f0ecbf5eb2"
      },
      "source": [
        "data_tf = {'model':model,'accuracy':accuracy['TF-IDF'],'recall':recall['TF-IDF']}\n",
        "compare_models_tf = pd.DataFrame(data_tf)\n",
        "compare_models_tf"
      ],
      "execution_count": 98,
      "outputs": [
        {
          "output_type": "execute_result",
          "data": {
            "text/html": [
              "<div>\n",
              "<style scoped>\n",
              "    .dataframe tbody tr th:only-of-type {\n",
              "        vertical-align: middle;\n",
              "    }\n",
              "\n",
              "    .dataframe tbody tr th {\n",
              "        vertical-align: top;\n",
              "    }\n",
              "\n",
              "    .dataframe thead th {\n",
              "        text-align: right;\n",
              "    }\n",
              "</style>\n",
              "<table border=\"1\" class=\"dataframe\">\n",
              "  <thead>\n",
              "    <tr style=\"text-align: right;\">\n",
              "      <th></th>\n",
              "      <th>model</th>\n",
              "      <th>accuracy</th>\n",
              "      <th>recall</th>\n",
              "    </tr>\n",
              "  </thead>\n",
              "  <tbody>\n",
              "    <tr>\n",
              "      <th>0</th>\n",
              "      <td>LR</td>\n",
              "      <td>0.895695</td>\n",
              "      <td>0.517413</td>\n",
              "    </tr>\n",
              "    <tr>\n",
              "      <th>1</th>\n",
              "      <td>RF</td>\n",
              "      <td>0.990066</td>\n",
              "      <td>0.487562</td>\n",
              "    </tr>\n",
              "    <tr>\n",
              "      <th>2</th>\n",
              "      <td>DT</td>\n",
              "      <td>0.990066</td>\n",
              "      <td>0.452736</td>\n",
              "    </tr>\n",
              "    <tr>\n",
              "      <th>3</th>\n",
              "      <td>KN</td>\n",
              "      <td>0.990066</td>\n",
              "      <td>0.477612</td>\n",
              "    </tr>\n",
              "    <tr>\n",
              "      <th>4</th>\n",
              "      <td>GN</td>\n",
              "      <td>0.990066</td>\n",
              "      <td>0.472637</td>\n",
              "    </tr>\n",
              "    <tr>\n",
              "      <th>5</th>\n",
              "      <td>GB</td>\n",
              "      <td>0.990066</td>\n",
              "      <td>0.467662</td>\n",
              "    </tr>\n",
              "  </tbody>\n",
              "</table>\n",
              "</div>"
            ],
            "text/plain": [
              "  model  accuracy    recall\n",
              "0    LR  0.895695  0.517413\n",
              "1    RF  0.990066  0.487562\n",
              "2    DT  0.990066  0.452736\n",
              "3    KN  0.990066  0.477612\n",
              "4    GN  0.990066  0.472637\n",
              "5    GB  0.990066  0.467662"
            ]
          },
          "metadata": {
            "tags": []
          },
          "execution_count": 98
        }
      ]
    },
    {
      "cell_type": "code",
      "metadata": {
        "id": "6axfnTHgs9xv",
        "colab_type": "code",
        "colab": {
          "base_uri": "https://localhost:8080/",
          "height": 281
        },
        "outputId": "b7643aa8-c4b4-4139-c33a-99626132df2b"
      },
      "source": [
        "acc_bow = plt.bar(compare_models_tf['model'],compare_models_tf['recall'])\n",
        "plt.title('TF-IDF')\n",
        "plt.show()"
      ],
      "execution_count": 99,
      "outputs": [
        {
          "output_type": "display_data",
          "data": {
            "image/png": "[encoded data removed]",
            "text/plain": [
              "<Figure size 432x288 with 1 Axes>"
            ]
          },
          "metadata": {
            "tags": [],
            "needs_background": "light"
          }
        }
      ]
    },
    {
      "cell_type": "markdown",
      "metadata": {
        "id": "Bz_K-EP1rqxc",
        "colab_type": "text"
      },
      "source": [
        "Keeping both recall value and accuracy in mind our best model is Random Forest with bag of words input "
      ]
    },
    {
      "cell_type": "code",
      "metadata": {
        "id": "MFDAG2U_aogI",
        "colab_type": "code",
        "colab": {
          "base_uri": "https://localhost:8080/",
          "height": 297
        },
        "outputId": "f8b880e8-8b54-4115-f234-95d5849b08d5"
      },
      "source": [
        "from sklearn.metrics import plot_confusion_matrix\n",
        "plot_confusion_matrix(model_RF_bow,bow_train,y_train)"
      ],
      "execution_count": 219,
      "outputs": [
        {
          "output_type": "execute_result",
          "data": {
            "text/plain": [
              "<sklearn.metrics._plot.confusion_matrix.ConfusionMatrixDisplay at 0x7fd0cf69fb38>"
            ]
          },
          "metadata": {
            "tags": []
          },
          "execution_count": 219
        },
        {
          "output_type": "display_data",
          "data": {
            "image/png": "[encoded data removed]",
            "text/plain": [
              "<Figure size 432x288 with 2 Axes>"
            ]
          },
          "metadata": {
            "tags": [],
            "needs_background": "light"
          }
        }
      ]
    },
    {
      "cell_type": "code",
      "metadata": {
        "id": "r5tgB06aaogQ",
        "colab_type": "code",
        "colab": {
          "base_uri": "https://localhost:8080/",
          "height": 455
        },
        "outputId": "ad3e4ca7-f2fc-4a5d-bd65-ea0230329e46"
      },
      "source": [
        "from sklearn.metrics import precision_recall_curve\n",
        "\n",
        "# getting the probabilities of our predictions\n",
        "y_scores = model_RF_bow.predict_proba(bow_train)\n",
        "y_scores = y_scores[:,1]\n",
        "\n",
        "precision, recall, threshold = precision_recall_curve(y_train, y_scores)\n",
        "def plot_precision_and_recall(precision, recall, threshold):\n",
        "    plt.plot(threshold, precision[:-1], \"r-\", label=\"precision\", linewidth=5)\n",
        "    plt.plot(threshold, recall[:-1], \"b\", label=\"recall\", linewidth=5)\n",
        "    plt.xlabel(\"threshold\", fontsize=19)\n",
        "    plt.legend(loc=\"upper right\", fontsize=19)\n",
        "    plt.ylim([0, 1])\n",
        "\n",
        "plt.figure(figsize=(14, 7))\n",
        "plot_precision_and_recall(precision, recall, threshold)"
      ],
      "execution_count": 111,
      "outputs": [
        {
          "output_type": "display_data",
          "data": {
            "image/png": "[encoded data removed]",
            "text/plain": [
              "<Figure size 1008x504 with 1 Axes>"
            ]
          },
          "metadata": {
            "tags": [],
            "needs_background": "light"
          }
        }
      ]
    },
    {
      "cell_type": "code",
      "metadata": {
        "id": "zkaRG8LEaog1",
        "colab_type": "code",
        "colab": {}
      },
      "source": [
        "from sklearn.metrics import roc_curve\n"
      ],
      "execution_count": 117,
      "outputs": []
    },
    {
      "cell_type": "code",
      "metadata": {
        "id": "93B0h8x17J4j",
        "colab_type": "code",
        "colab": {
          "base_uri": "https://localhost:8080/",
          "height": 543
        },
        "outputId": "eb4a28d9-d5af-497e-affc-443b822d1740"
      },
      "source": [
        "LR_fpr, LR_tpr, threshold = roc_curve(y_test,y_predict_LR_tf)\n",
        "RF_fpr, RF_tpr, threshold = roc_curve(y_test, y_predict_RF_bow)\n",
        "DT_fpr, DT_tpr, thresold = roc_curve(y_test, y_predict_DT_bow)\n",
        "KN_fpr, KN_tpr, thresold = roc_curve(y_test, y_predict_KN_bow)\n",
        "GB_fpr, GB_tpr, threshold = roc_curve(y_test, y_predict_GB_tf)\n",
        "GN_fpr, GN_tpr, threshold = roc_curve(y_test, y_predict_GN_tf)\n",
        "\n",
        "\n",
        "def graph_roc_curve_multiple(LR_fpr, LR_tpr, RF_fpr, RF_tpr, DT_fpr, DT_tpr, KN_fpr, KN_tpr, GB_fpr, GB_tpr, GN_fpr, GN_tpr,):\n",
        "    plt.figure(figsize=(8,8))\n",
        "    plt.title('ROC Curve \\n Classifiers', fontsize=18)\n",
        "    plt.plot(RF_fpr, RF_tpr, label='random forest')\n",
        "    plt.plot(LR_fpr, LR_tpr, label='Logistic regression')\n",
        "    plt.plot(GB_fpr, GB_tpr, label='Gradient Boosting')\n",
        "    plt.plot(KN_fpr, KN_tpr, label='KNeighbors')\n",
        "    plt.plot(DT_fpr, DT_tpr, label='decision tree')\n",
        "    plt.plot(GN_fpr, GN_tpr, label='GaussianNB')\n",
        "    plt.plot([0, 1], [0, 1], 'k--')\n",
        "    plt.axis([0, 1, 0, 1])\n",
        "    plt.xlabel('False Positive Rate', fontsize=16)\n",
        "    plt.ylabel('True Positive Rate', fontsize=16)\n",
        "    plt.annotate('Minimum ROC Score of 50% \\n (This is the minimum score to get)', xy=(0.5, 0.5), xytext=(0.6, 0.3),\n",
        "                arrowprops=dict(facecolor='#6E726D', shrink=0.05),\n",
        "                )\n",
        "    plt.legend()\n",
        "    \n",
        "graph_roc_curve_multiple(RF_fpr, RF_tpr, LR_fpr, LR_tpr,GB_fpr, GB_tpr, KN_fpr, KN_tpr, DT_fpr, DT_tpr,GN_fpr, GN_tpr)\n",
        "plt.show()"
      ],
      "execution_count": 123,
      "outputs": [
        {
          "output_type": "display_data",
          "data": {
            "image/png": "[encoded data removed]",
            "text/plain": [
              "<Figure size 576x576 with 1 Axes>"
            ]
          },
          "metadata": {
            "tags": [],
            "needs_background": "light"
          }
        }
      ]
    },
    {
      "cell_type": "code",
      "metadata": {
        "id": "hqh4s8ui7Qjg",
        "colab_type": "code",
        "colab": {
          "base_uri": "https://localhost:8080/",
          "height": 35
        },
        "outputId": "7cb2fbf3-75d0-449d-b055-d0f1414af7cb"
      },
      "source": [
        "from sklearn.metrics import roc_auc_score\n",
        "r_a_score = roc_auc_score(y_test, model_RF_bow.predict_proba(bow_test)[:,1])\n",
        "print(\"ROC-AUC-Score:\", r_a_score)"
      ],
      "execution_count": 114,
      "outputs": [
        {
          "output_type": "stream",
          "text": [
            "ROC-AUC-Score: 0.5595243260441977\n"
          ],
          "name": "stdout"
        }
      ]
    },
    {
      "cell_type": "code",
      "metadata": {
        "id": "TpJrS5c07Zaj",
        "colab_type": "code",
        "colab": {}
      },
      "source": [
        ""
      ],
      "execution_count": null,
      "outputs": []
    }
  ]
}