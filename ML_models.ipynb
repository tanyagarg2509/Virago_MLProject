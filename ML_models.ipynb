{
  "nbformat": 4,
  "nbformat_minor": 0,
  "metadata": {
    "kernelspec": {
      "display_name": "Python 3",
      "language": "python",
      "name": "python3"
    },
    "language_info": {
      "codemirror_mode": {
        "name": "ipython",
        "version": 3
      },
      "file_extension": ".py",
      "mimetype": "text/x-python",
      "name": "python",
      "nbconvert_exporter": "python",
      "pygments_lexer": "ipython3",
      "version": "3.6.5"
    },
    "colab": {
      "name": "ML_models.ipynb",
      "provenance": []
    }
  },
  "cells": [
    {
      "cell_type": "code",
      "metadata": {
        "id": "sO2bt9pmaodu",
        "colab_type": "code",
        "colab": {}
      },
      "source": [
        "import pandas as pd\n",
        "from sklearn.model_selection import train_test_split\n",
        "from sklearn.feature_extraction.text import CountVectorizer\n",
        "from sklearn.feature_extraction.text import TfidfVectorizer"
      ],
      "execution_count": 1,
      "outputs": []
    },
    {
      "cell_type": "code",
      "metadata": {
        "id": "99hJY53Uaod1",
        "colab_type": "code",
        "colab": {}
      },
      "source": [
        "df = pd.read_csv('/content/drive/My Drive/38891_59255/cleaned_dataset_train.csv')"
      ],
      "execution_count": 3,
      "outputs": []
    },
    {
      "cell_type": "code",
      "metadata": {
        "id": "0bYHyUXPaod4",
        "colab_type": "code",
        "colab": {
          "base_uri": "https://localhost:8080/",
          "height": 121
        },
        "outputId": "06dd465e-1d52-4951-d2b7-888eb583c96b"
      },
      "source": [
        "df.isna().sum()"
      ],
      "execution_count": 4,
      "outputs": [
        {
          "output_type": "execute_result",
          "data": {
            "text/plain": [
              "Unnamed: 0      0\n",
              "label           0\n",
              "tweet           0\n",
              "clean_tweet    11\n",
              "Hashtags        0\n",
              "dtype: int64"
            ]
          },
          "metadata": {
            "tags": []
          },
          "execution_count": 4
        }
      ]
    },
    {
      "cell_type": "code",
      "metadata": {
        "id": "OCOOvmDVaod6",
        "colab_type": "code",
        "colab": {}
      },
      "source": [
        "df['clean_tweet'].fillna('Null',inplace=True)"
      ],
      "execution_count": 5,
      "outputs": []
    },
    {
      "cell_type": "code",
      "metadata": {
        "id": "2jKx2OzIaod8",
        "colab_type": "code",
        "colab": {
          "base_uri": "https://localhost:8080/",
          "height": 121
        },
        "outputId": "dfe984c9-ad6b-45a5-ee80-298e46182ed7"
      },
      "source": [
        "df.isna().sum()"
      ],
      "execution_count": 6,
      "outputs": [
        {
          "output_type": "execute_result",
          "data": {
            "text/plain": [
              "Unnamed: 0     0\n",
              "label          0\n",
              "tweet          0\n",
              "clean_tweet    0\n",
              "Hashtags       0\n",
              "dtype: int64"
            ]
          },
          "metadata": {
            "tags": []
          },
          "execution_count": 6
        }
      ]
    },
    {
      "cell_type": "code",
      "metadata": {
        "id": "YTb3kNUaaod_",
        "colab_type": "code",
        "colab": {
          "base_uri": "https://localhost:8080/",
          "height": 415
        },
        "outputId": "6f8ca4df-4746-47e8-b951-c01af287ab80"
      },
      "source": [
        "df"
      ],
      "execution_count": 7,
      "outputs": [
        {
          "output_type": "execute_result",
          "data": {
            "text/html": [
              "<div>\n",
              "<style scoped>\n",
              "    .dataframe tbody tr th:only-of-type {\n",
              "        vertical-align: middle;\n",
              "    }\n",
              "\n",
              "    .dataframe tbody tr th {\n",
              "        vertical-align: top;\n",
              "    }\n",
              "\n",
              "    .dataframe thead th {\n",
              "        text-align: right;\n",
              "    }\n",
              "</style>\n",
              "<table border=\"1\" class=\"dataframe\">\n",
              "  <thead>\n",
              "    <tr style=\"text-align: right;\">\n",
              "      <th></th>\n",
              "      <th>Unnamed: 0</th>\n",
              "      <th>label</th>\n",
              "      <th>tweet</th>\n",
              "      <th>clean_tweet</th>\n",
              "      <th>Hashtags</th>\n",
              "    </tr>\n",
              "  </thead>\n",
              "  <tbody>\n",
              "    <tr>\n",
              "      <th>0</th>\n",
              "      <td>0</td>\n",
              "      <td>0</td>\n",
              "      <td>@user when a father is dysfunctional and is s...</td>\n",
              "      <td>father dysfunct selfish drag kid dysfunction. ...</td>\n",
              "      <td>#run</td>\n",
              "    </tr>\n",
              "    <tr>\n",
              "      <th>1</th>\n",
              "      <td>1</td>\n",
              "      <td>0</td>\n",
              "      <td>@user @user thanks for #lyft credit i can't us...</td>\n",
              "      <td>thank #lyft credit can't use caus offer wheelc...</td>\n",
              "      <td>#lyft #disapointed #getthanked</td>\n",
              "    </tr>\n",
              "    <tr>\n",
              "      <th>2</th>\n",
              "      <td>2</td>\n",
              "      <td>0</td>\n",
              "      <td>bihday your majesty</td>\n",
              "      <td>bihday majesti</td>\n",
              "      <td>No hashtags</td>\n",
              "    </tr>\n",
              "    <tr>\n",
              "      <th>3</th>\n",
              "      <td>3</td>\n",
              "      <td>0</td>\n",
              "      <td>#model   i love u take with u all the time in ...</td>\n",
              "      <td>#model love take time urd+-!!! dddd d|d|d|</td>\n",
              "      <td>#model</td>\n",
              "    </tr>\n",
              "    <tr>\n",
              "      <th>4</th>\n",
              "      <td>4</td>\n",
              "      <td>0</td>\n",
              "      <td>factsguide: society now    #motivation</td>\n",
              "      <td>factsguide: societi #motiv</td>\n",
              "      <td>#motivation</td>\n",
              "    </tr>\n",
              "    <tr>\n",
              "      <th>...</th>\n",
              "      <td>...</td>\n",
              "      <td>...</td>\n",
              "      <td>...</td>\n",
              "      <td>...</td>\n",
              "      <td>...</td>\n",
              "    </tr>\n",
              "    <tr>\n",
              "      <th>29525</th>\n",
              "      <td>31956</td>\n",
              "      <td>0</td>\n",
              "      <td>off fishing tomorrow @user carnt wait first ti...</td>\n",
              "      <td>fish tomorrow carnt wait first time year</td>\n",
              "      <td>No hashtags</td>\n",
              "    </tr>\n",
              "    <tr>\n",
              "      <th>29526</th>\n",
              "      <td>31957</td>\n",
              "      <td>0</td>\n",
              "      <td>ate @user isz that youuu?ðððððð...</td>\n",
              "      <td>ate isz youuu?ddddddddda$?i,</td>\n",
              "      <td>No hashtags</td>\n",
              "    </tr>\n",
              "    <tr>\n",
              "      <th>29527</th>\n",
              "      <td>31958</td>\n",
              "      <td>0</td>\n",
              "      <td>to see nina turner on the airwaves trying to...</td>\n",
              "      <td>see nina turner airwav tri wrap mantl genuin h...</td>\n",
              "      <td>#shame #imwithher</td>\n",
              "    </tr>\n",
              "    <tr>\n",
              "      <th>29528</th>\n",
              "      <td>31959</td>\n",
              "      <td>0</td>\n",
              "      <td>listening to sad songs on a monday morning otw...</td>\n",
              "      <td>listen sad song monday morn otw work sad</td>\n",
              "      <td>No hashtags</td>\n",
              "    </tr>\n",
              "    <tr>\n",
              "      <th>29529</th>\n",
              "      <td>31961</td>\n",
              "      <td>0</td>\n",
              "      <td>thank you @user for you follow</td>\n",
              "      <td>thank follow</td>\n",
              "      <td>No hashtags</td>\n",
              "    </tr>\n",
              "  </tbody>\n",
              "</table>\n",
              "<p>29530 rows × 5 columns</p>\n",
              "</div>"
            ],
            "text/plain": [
              "       Unnamed: 0  ...                        Hashtags\n",
              "0               0  ...                            #run\n",
              "1               1  ...  #lyft #disapointed #getthanked\n",
              "2               2  ...                     No hashtags\n",
              "3               3  ...                          #model\n",
              "4               4  ...                     #motivation\n",
              "...           ...  ...                             ...\n",
              "29525       31956  ...                     No hashtags\n",
              "29526       31957  ...                     No hashtags\n",
              "29527       31958  ...               #shame #imwithher\n",
              "29528       31959  ...                     No hashtags\n",
              "29529       31961  ...                     No hashtags\n",
              "\n",
              "[29530 rows x 5 columns]"
            ]
          },
          "metadata": {
            "tags": []
          },
          "execution_count": 7
        }
      ]
    },
    {
      "cell_type": "code",
      "metadata": {
        "id": "ZygZN0guaoeB",
        "colab_type": "code",
        "colab": {}
      },
      "source": [
        "df.drop(['Unnamed: 0','tweet','Hashtags'], axis = 1,inplace=True)"
      ],
      "execution_count": 8,
      "outputs": []
    },
    {
      "cell_type": "code",
      "metadata": {
        "id": "6jeqI-lUaoeE",
        "colab_type": "code",
        "colab": {
          "base_uri": "https://localhost:8080/",
          "height": 202
        },
        "outputId": "a7fe66a0-030a-43d7-cade-5354a659c1ce"
      },
      "source": [
        "df.head()"
      ],
      "execution_count": 9,
      "outputs": [
        {
          "output_type": "execute_result",
          "data": {
            "text/html": [
              "<div>\n",
              "<style scoped>\n",
              "    .dataframe tbody tr th:only-of-type {\n",
              "        vertical-align: middle;\n",
              "    }\n",
              "\n",
              "    .dataframe tbody tr th {\n",
              "        vertical-align: top;\n",
              "    }\n",
              "\n",
              "    .dataframe thead th {\n",
              "        text-align: right;\n",
              "    }\n",
              "</style>\n",
              "<table border=\"1\" class=\"dataframe\">\n",
              "  <thead>\n",
              "    <tr style=\"text-align: right;\">\n",
              "      <th></th>\n",
              "      <th>label</th>\n",
              "      <th>clean_tweet</th>\n",
              "    </tr>\n",
              "  </thead>\n",
              "  <tbody>\n",
              "    <tr>\n",
              "      <th>0</th>\n",
              "      <td>0</td>\n",
              "      <td>father dysfunct selfish drag kid dysfunction. ...</td>\n",
              "    </tr>\n",
              "    <tr>\n",
              "      <th>1</th>\n",
              "      <td>0</td>\n",
              "      <td>thank #lyft credit can't use caus offer wheelc...</td>\n",
              "    </tr>\n",
              "    <tr>\n",
              "      <th>2</th>\n",
              "      <td>0</td>\n",
              "      <td>bihday majesti</td>\n",
              "    </tr>\n",
              "    <tr>\n",
              "      <th>3</th>\n",
              "      <td>0</td>\n",
              "      <td>#model love take time urd+-!!! dddd d|d|d|</td>\n",
              "    </tr>\n",
              "    <tr>\n",
              "      <th>4</th>\n",
              "      <td>0</td>\n",
              "      <td>factsguide: societi #motiv</td>\n",
              "    </tr>\n",
              "  </tbody>\n",
              "</table>\n",
              "</div>"
            ],
            "text/plain": [
              "   label                                        clean_tweet\n",
              "0      0  father dysfunct selfish drag kid dysfunction. ...\n",
              "1      0  thank #lyft credit can't use caus offer wheelc...\n",
              "2      0                                     bihday majesti\n",
              "3      0         #model love take time urd+-!!! dddd d|d|d|\n",
              "4      0                         factsguide: societi #motiv"
            ]
          },
          "metadata": {
            "tags": []
          },
          "execution_count": 9
        }
      ]
    },
    {
      "cell_type": "code",
      "metadata": {
        "id": "jQupQv2enfcC",
        "colab_type": "code",
        "colab": {}
      },
      "source": [
        " dff = df.drop(['label'], axis = 1)"
      ],
      "execution_count": 10,
      "outputs": []
    },
    {
      "cell_type": "code",
      "metadata": {
        "id": "CIdAdI5uaoeI",
        "colab_type": "code",
        "colab": {}
      },
      "source": [
        "X_temp, X_test, y_temp, y_test = train_test_split(dff, list(df.label), test_size=0.1)"
      ],
      "execution_count": 160,
      "outputs": []
    },
    {
      "cell_type": "code",
      "metadata": {
        "id": "lsdyMjUpaoeK",
        "colab_type": "code",
        "colab": {
          "base_uri": "https://localhost:8080/",
          "height": 35
        },
        "outputId": "1249782b-77d9-4a56-9f61-33db5f271ca8"
      },
      "source": [
        "X_test.shape, X_temp.shape, len(y_test), len(y_temp)"
      ],
      "execution_count": 161,
      "outputs": [
        {
          "output_type": "execute_result",
          "data": {
            "text/plain": [
              "((2953, 1), (26577, 1), 2953, 26577)"
            ]
          },
          "metadata": {
            "tags": []
          },
          "execution_count": 161
        }
      ]
    },
    {
      "cell_type": "code",
      "metadata": {
        "id": "86UFTYVtaoeV",
        "colab_type": "code",
        "colab": {
          "base_uri": "https://localhost:8080/",
          "height": 121
        },
        "outputId": "9b550d19-0754-4fa4-f8a0-f6a3df22ba2c"
      },
      "source": [
        "X_temp['label'] = y_temp"
      ],
      "execution_count": 162,
      "outputs": [
        {
          "output_type": "stream",
          "text": [
            "/usr/local/lib/python3.6/dist-packages/ipykernel_launcher.py:1: SettingWithCopyWarning: \n",
            "A value is trying to be set on a copy of a slice from a DataFrame.\n",
            "Try using .loc[row_indexer,col_indexer] = value instead\n",
            "\n",
            "See the caveats in the documentation: https://pandas.pydata.org/pandas-docs/stable/user_guide/indexing.html#returning-a-view-versus-a-copy\n",
            "  \"\"\"Entry point for launching an IPython kernel.\n"
          ],
          "name": "stderr"
        }
      ]
    },
    {
      "cell_type": "code",
      "metadata": {
        "id": "XgNv68FxaoeX",
        "colab_type": "code",
        "colab": {
          "base_uri": "https://localhost:8080/",
          "height": 202
        },
        "outputId": "55b85758-786f-48af-ed44-6fb788caa3b2"
      },
      "source": [
        "X_temp.head()"
      ],
      "execution_count": 163,
      "outputs": [
        {
          "output_type": "execute_result",
          "data": {
            "text/html": [
              "<div>\n",
              "<style scoped>\n",
              "    .dataframe tbody tr th:only-of-type {\n",
              "        vertical-align: middle;\n",
              "    }\n",
              "\n",
              "    .dataframe tbody tr th {\n",
              "        vertical-align: top;\n",
              "    }\n",
              "\n",
              "    .dataframe thead th {\n",
              "        text-align: right;\n",
              "    }\n",
              "</style>\n",
              "<table border=\"1\" class=\"dataframe\">\n",
              "  <thead>\n",
              "    <tr style=\"text-align: right;\">\n",
              "      <th></th>\n",
              "      <th>clean_tweet</th>\n",
              "      <th>label</th>\n",
              "    </tr>\n",
              "  </thead>\n",
              "  <tbody>\n",
              "    <tr>\n",
              "      <th>27133</th>\n",
              "      <td>wtf great girl group disband complete. wrong w...</td>\n",
              "      <td>0</td>\n",
              "    </tr>\n",
              "    <tr>\n",
              "      <th>24839</th>\n",
              "      <td>#rift #idink #beawar #findesemain #marx click ...</td>\n",
              "      <td>0</td>\n",
              "    </tr>\n",
              "    <tr>\n",
              "      <th>11166</th>\n",
              "      <td>absolut best day sister' graduation! #bestday ...</td>\n",
              "      <td>0</td>\n",
              "    </tr>\n",
              "    <tr>\n",
              "      <th>826</th>\n",
              "      <td>money. campaign ask $100k donat midnight fight...</td>\n",
              "      <td>0</td>\n",
              "    </tr>\n",
              "    <tr>\n",
              "      <th>25806</th>\n",
              "      <td>ref far worst, inconsist group major spo. real...</td>\n",
              "      <td>0</td>\n",
              "    </tr>\n",
              "  </tbody>\n",
              "</table>\n",
              "</div>"
            ],
            "text/plain": [
              "                                             clean_tweet  label\n",
              "27133  wtf great girl group disband complete. wrong w...      0\n",
              "24839  #rift #idink #beawar #findesemain #marx click ...      0\n",
              "11166  absolut best day sister' graduation! #bestday ...      0\n",
              "826    money. campaign ask $100k donat midnight fight...      0\n",
              "25806  ref far worst, inconsist group major spo. real...      0"
            ]
          },
          "metadata": {
            "tags": []
          },
          "execution_count": 163
        }
      ]
    },
    {
      "cell_type": "code",
      "metadata": {
        "id": "FH218KYlaoef",
        "colab_type": "code",
        "colab": {
          "base_uri": "https://localhost:8080/",
          "height": 35
        },
        "outputId": "221db0c0-8fbc-4a4f-b436-39cc8b829e95"
      },
      "source": [
        "nonhate = X_temp[X_temp['label'] == 0]\n",
        "nonhate.shape[0]"
      ],
      "execution_count": 164,
      "outputs": [
        {
          "output_type": "execute_result",
          "data": {
            "text/plain": [
              "24772"
            ]
          },
          "metadata": {
            "tags": []
          },
          "execution_count": 164
        }
      ]
    },
    {
      "cell_type": "code",
      "metadata": {
        "id": "FSQnY1RIaoej",
        "colab_type": "code",
        "colab": {
          "base_uri": "https://localhost:8080/",
          "height": 35
        },
        "outputId": "1a62e3ac-3b46-4b6d-b839-948adcc9aed6"
      },
      "source": [
        "hate = X_temp[X_temp.label == 1]\n",
        "hate.shape[0]"
      ],
      "execution_count": 165,
      "outputs": [
        {
          "output_type": "execute_result",
          "data": {
            "text/plain": [
              "1805"
            ]
          },
          "metadata": {
            "tags": []
          },
          "execution_count": 165
        }
      ]
    },
    {
      "cell_type": "code",
      "metadata": {
        "id": "APeO5Zooaoem",
        "colab_type": "code",
        "colab": {
          "base_uri": "https://localhost:8080/",
          "height": 35
        },
        "outputId": "214673a6-1be5-411a-c28e-bc0e16bc4a4f"
      },
      "source": [
        "nonhatesample = nonhate.sample(n = hate.shape[0])\n",
        "nonhatesample.shape"
      ],
      "execution_count": 166,
      "outputs": [
        {
          "output_type": "execute_result",
          "data": {
            "text/plain": [
              "(1805, 2)"
            ]
          },
          "metadata": {
            "tags": []
          },
          "execution_count": 166
        }
      ]
    },
    {
      "cell_type": "code",
      "metadata": {
        "id": "7LjKaE1Kaoex",
        "colab_type": "code",
        "colab": {}
      },
      "source": [
        "ds = pd.concat([hate, nonhatesample], axis = 0)"
      ],
      "execution_count": 167,
      "outputs": []
    },
    {
      "cell_type": "code",
      "metadata": {
        "id": "SMlCVXf5aoe2",
        "colab_type": "code",
        "colab": {
          "base_uri": "https://localhost:8080/",
          "height": 415
        },
        "outputId": "5e993f61-d87f-428c-ca71-8c2baa851d97"
      },
      "source": [
        "ds"
      ],
      "execution_count": 168,
      "outputs": [
        {
          "output_type": "execute_result",
          "data": {
            "text/html": [
              "<div>\n",
              "<style scoped>\n",
              "    .dataframe tbody tr th:only-of-type {\n",
              "        vertical-align: middle;\n",
              "    }\n",
              "\n",
              "    .dataframe tbody tr th {\n",
              "        vertical-align: top;\n",
              "    }\n",
              "\n",
              "    .dataframe thead th {\n",
              "        text-align: right;\n",
              "    }\n",
              "</style>\n",
              "<table border=\"1\" class=\"dataframe\">\n",
              "  <thead>\n",
              "    <tr style=\"text-align: right;\">\n",
              "      <th></th>\n",
              "      <th>clean_tweet</th>\n",
              "      <th>label</th>\n",
              "    </tr>\n",
              "  </thead>\n",
              "  <tbody>\n",
              "    <tr>\n",
              "      <th>6236</th>\n",
              "      <td>.@user use phrase like #sandnigg accept ya, hm...</td>\n",
              "      <td>1</td>\n",
              "    </tr>\n",
              "    <tr>\n",
              "      <th>2289</th>\n",
              "      <td>check post! confession: i'm #america #controve...</td>\n",
              "      <td>1</td>\n",
              "    </tr>\n",
              "    <tr>\n",
              "      <th>17731</th>\n",
              "      <td>racism home anti- advic others: we'r good both.</td>\n",
              "      <td>1</td>\n",
              "    </tr>\n",
              "    <tr>\n",
              "      <th>2805</th>\n",
              "      <td>correct way written!!! matter profession!!! cl...</td>\n",
              "      <td>1</td>\n",
              "    </tr>\n",
              "    <tr>\n",
              "      <th>23102</th>\n",
              "      <td>#cuomo: #paladino' ', ugly' comment #obama emb...</td>\n",
              "      <td>1</td>\n",
              "    </tr>\n",
              "    <tr>\n",
              "      <th>...</th>\n",
              "      <td>...</td>\n",
              "      <td>...</td>\n",
              "    </tr>\n",
              "    <tr>\n",
              "      <th>1022</th>\n",
              "      <td>thank pour tea razer blackwidow chroma #kid #d...</td>\n",
              "      <td>0</td>\n",
              "    </tr>\n",
              "    <tr>\n",
              "      <th>5712</th>\n",
              "      <td>#bless teach #rooftopyoga #zhotelnyc tonight 7...</td>\n",
              "      <td>0</td>\n",
              "    </tr>\n",
              "    <tr>\n",
              "      <th>7471</th>\n",
              "      <td>#e3 without cover togeth #g4waslif #missyouguy</td>\n",
              "      <td>0</td>\n",
              "    </tr>\n",
              "    <tr>\n",
              "      <th>8167</th>\n",
              "      <td>get see boy tonight dd #datenight</td>\n",
              "      <td>0</td>\n",
              "    </tr>\n",
              "    <tr>\n",
              "      <th>9324</th>\n",
              "      <td>#babi trend lab cocoa mint chang pad cover #bo...</td>\n",
              "      <td>0</td>\n",
              "    </tr>\n",
              "  </tbody>\n",
              "</table>\n",
              "<p>3610 rows × 2 columns</p>\n",
              "</div>"
            ],
            "text/plain": [
              "                                             clean_tweet  label\n",
              "6236   .@user use phrase like #sandnigg accept ya, hm...      1\n",
              "2289   check post! confession: i'm #america #controve...      1\n",
              "17731    racism home anti- advic others: we'r good both.      1\n",
              "2805   correct way written!!! matter profession!!! cl...      1\n",
              "23102  #cuomo: #paladino' ', ugly' comment #obama emb...      1\n",
              "...                                                  ...    ...\n",
              "1022   thank pour tea razer blackwidow chroma #kid #d...      0\n",
              "5712   #bless teach #rooftopyoga #zhotelnyc tonight 7...      0\n",
              "7471      #e3 without cover togeth #g4waslif #missyouguy      0\n",
              "8167                   get see boy tonight dd #datenight      0\n",
              "9324   #babi trend lab cocoa mint chang pad cover #bo...      0\n",
              "\n",
              "[3610 rows x 2 columns]"
            ]
          },
          "metadata": {
            "tags": []
          },
          "execution_count": 168
        }
      ]
    },
    {
      "cell_type": "code",
      "metadata": {
        "id": "YKZR8D7Raoe4",
        "colab_type": "code",
        "colab": {
          "base_uri": "https://localhost:8080/",
          "height": 139
        },
        "outputId": "f6f2cee9-2cc4-435b-c915-7740cb2120d7"
      },
      "source": [
        "testdf = X_test\n",
        "testdf['label'] = y_test\n",
        "testdf.shape"
      ],
      "execution_count": 169,
      "outputs": [
        {
          "output_type": "stream",
          "text": [
            "/usr/local/lib/python3.6/dist-packages/ipykernel_launcher.py:2: SettingWithCopyWarning: \n",
            "A value is trying to be set on a copy of a slice from a DataFrame.\n",
            "Try using .loc[row_indexer,col_indexer] = value instead\n",
            "\n",
            "See the caveats in the documentation: https://pandas.pydata.org/pandas-docs/stable/user_guide/indexing.html#returning-a-view-versus-a-copy\n",
            "  \n"
          ],
          "name": "stderr"
        },
        {
          "output_type": "execute_result",
          "data": {
            "text/plain": [
              "(2953, 2)"
            ]
          },
          "metadata": {
            "tags": []
          },
          "execution_count": 169
        }
      ]
    },
    {
      "cell_type": "code",
      "metadata": {
        "id": "kRoFDaXCYlw-",
        "colab_type": "code",
        "colab": {
          "base_uri": "https://localhost:8080/",
          "height": 35
        },
        "outputId": "d430a3a0-eccf-4cd5-b525-f362a7003823"
      },
      "source": [
        "len(testdf[testdf['label']==0]),len(testdf[testdf['label']==1])"
      ],
      "execution_count": 170,
      "outputs": [
        {
          "output_type": "execute_result",
          "data": {
            "text/plain": [
              "(2745, 208)"
            ]
          },
          "metadata": {
            "tags": []
          },
          "execution_count": 170
        }
      ]
    },
    {
      "cell_type": "code",
      "metadata": {
        "id": "fWTBw6iwpB1F",
        "colab_type": "code",
        "colab": {}
      },
      "source": [
        "ds = pd.concat([ds, testdf], axis = 0)"
      ],
      "execution_count": 171,
      "outputs": []
    },
    {
      "cell_type": "code",
      "metadata": {
        "id": "T48VcqHE2m6O",
        "colab_type": "code",
        "colab": {
          "base_uri": "https://localhost:8080/",
          "height": 35
        },
        "outputId": "c4e48680-d0d5-48dd-a824-a85dcfdcc6aa"
      },
      "source": [
        "ds[ds['label']==0].shape, ds[ds['label']==1].shape"
      ],
      "execution_count": 172,
      "outputs": [
        {
          "output_type": "execute_result",
          "data": {
            "text/plain": [
              "((4550, 2), (2013, 2))"
            ]
          },
          "metadata": {
            "tags": []
          },
          "execution_count": 172
        }
      ]
    },
    {
      "cell_type": "code",
      "metadata": {
        "id": "gQ-nxrYsaofR",
        "colab_type": "code",
        "colab": {}
      },
      "source": [
        "corpus = []\n",
        "for i in range(ds.shape[0]):\n",
        "    corpus.append(ds.iloc[i][0])"
      ],
      "execution_count": 193,
      "outputs": []
    },
    {
      "cell_type": "markdown",
      "metadata": {
        "id": "PQ3WHI5-AAg4",
        "colab_type": "text"
      },
      "source": [
        "### Creating Bag Of Words"
      ]
    },
    {
      "cell_type": "code",
      "metadata": {
        "id": "XuSaJ4ahaofW",
        "colab_type": "code",
        "colab": {}
      },
      "source": [
        "vectorizer_train = CountVectorizer(max_features=1000)\n",
        "vocabulary_train = vectorizer_train.fit_transform(corpus)\n",
        "bow = pd.DataFrame(vocabulary_train.toarray(), columns = vectorizer_train.get_feature_names())"
      ],
      "execution_count": 268,
      "outputs": []
    },
    {
      "cell_type": "code",
      "metadata": {
        "id": "4fVp8RUcFC84",
        "colab_type": "code",
        "colab": {}
      },
      "source": [
        "bow['labelxyz'] = list(ds.label)"
      ],
      "execution_count": 269,
      "outputs": []
    },
    {
      "cell_type": "code",
      "metadata": {
        "id": "ROPtq7PKf1kw",
        "colab_type": "code",
        "colab": {}
      },
      "source": [
        "bow_hate = bow[bow.labelxyz == 1]\n",
        "bow_nonhate = bow[bow.labelxyz == 0]\n",
        "X_train_hate = bow_hate.sample(frac=0.9, random_state=0)\n",
        "X_test_hate = bow_hate.drop(X_train_hate.index)\n",
        "X_train_nonhate =  bow_nonhate.sample(frac=0.406, random_state=0)\n",
        "X_test_nonhate = bow_nonhate.drop(X_train_nonhate.index)\n",
        "X_train_df = pd.concat([X_train_hate, X_train_nonhate], axis = 0)\n",
        "bow_train = X_train_df.drop(['labelxyz'], axis = 1)\n",
        "y_train = list(X_train_df.labelxyz)\n",
        "X_test_df = pd.concat([X_test_hate, X_test_nonhate], axis = 0)\n",
        "bow_test = X_test_df.drop(['labelxyz'], axis = 1)\n",
        "y_test = list(X_test_df.labelxyz)"
      ],
      "execution_count": 270,
      "outputs": []
    },
    {
      "cell_type": "markdown",
      "metadata": {
        "id": "Aoz0eZETKNzR",
        "colab_type": "text"
      },
      "source": [
        "### Creating TF-IDF "
      ]
    },
    {
      "cell_type": "code",
      "metadata": {
        "id": "SxMJTBy9aofY",
        "colab_type": "code",
        "colab": {}
      },
      "source": [
        "vectorizer1 = TfidfVectorizer(max_features=1000)\n",
        "X1 = vectorizer1.fit_transform(corpus)\n",
        "feature_names1 = vectorizer1.get_feature_names()\n",
        "denselist1 = X1.todense().tolist()\n",
        "df2_train = pd.DataFrame(denselist1, columns=feature_names1)"
      ],
      "execution_count": 206,
      "outputs": []
    },
    {
      "cell_type": "code",
      "metadata": {
        "id": "-9Mujuwi8uGc",
        "colab_type": "code",
        "colab": {}
      },
      "source": [
        "tdf = df2_train\n",
        "tdf['labelxyz'] = list(ds.label)"
      ],
      "execution_count": 208,
      "outputs": []
    },
    {
      "cell_type": "code",
      "metadata": {
        "id": "W0NT8l_U8vGH",
        "colab_type": "code",
        "colab": {
          "base_uri": "https://localhost:8080/",
          "height": 35
        },
        "outputId": "f5b08be4-c2d4-42bf-813e-56fbf44af3c7"
      },
      "source": [
        "tdf_hate = tdf[tdf.labelxyz == 1]\n",
        "tdf_hate.shape"
      ],
      "execution_count": 209,
      "outputs": [
        {
          "output_type": "execute_result",
          "data": {
            "text/plain": [
              "(1810, 1001)"
            ]
          },
          "metadata": {
            "tags": []
          },
          "execution_count": 209
        }
      ]
    },
    {
      "cell_type": "code",
      "metadata": {
        "id": "oVYFejCy8uZS",
        "colab_type": "code",
        "colab": {
          "base_uri": "https://localhost:8080/",
          "height": 35
        },
        "outputId": "1a057c5a-d23c-4e45-e7a0-d8f154ffb570"
      },
      "source": [
        "tdf_nonhate = tdf[tdf.labelxyz == 0]\n",
        "tdf_nonhate.shape"
      ],
      "execution_count": 210,
      "outputs": [
        {
          "output_type": "execute_result",
          "data": {
            "text/plain": [
              "(1810, 1001)"
            ]
          },
          "metadata": {
            "tags": []
          },
          "execution_count": 210
        }
      ]
    },
    {
      "cell_type": "code",
      "metadata": {
        "id": "sveP4FC78tqe",
        "colab_type": "code",
        "colab": {}
      },
      "source": [
        "X_train_hate = tdf_hate.sample(frac=0.9, random_state=0)\n",
        "X_test_hate = tdf_hate.drop(X_train_hate.index)"
      ],
      "execution_count": 211,
      "outputs": []
    },
    {
      "cell_type": "code",
      "metadata": {
        "id": "qx2uPT4D9XxW",
        "colab_type": "code",
        "colab": {}
      },
      "source": [
        "X_train_nonhate =  tdf_nonhate.sample(frac=0.406, random_state=0)\n",
        "X_test_nonhate = tdf_nonhate.drop(X_train_nonhate.index)"
      ],
      "execution_count": 212,
      "outputs": []
    },
    {
      "cell_type": "code",
      "metadata": {
        "id": "PMcnT9399W7g",
        "colab_type": "code",
        "colab": {}
      },
      "source": [
        "X_train_df = pd.concat([X_train_hate, X_train_nonhate], axis = 0)\n",
        "tfdf_train = X_train_df.drop(['labelxyz'], axis = 1)\n",
        "y_train = list(X_train_df.labelxyz)\n",
        "X_test_df = pd.concat([X_test_hate, X_test_nonhate], axis = 0)\n",
        "tfdf_test = X_test_df.drop(['labelxyz'], axis = 1)\n",
        "y_test = list(X_test_df.labelxyz)"
      ],
      "execution_count": 213,
      "outputs": []
    },
    {
      "cell_type": "markdown",
      "metadata": {
        "id": "WiMk3Ivd9HM4",
        "colab_type": "text"
      },
      "source": [
        "# Building ML models"
      ]
    },
    {
      "cell_type": "code",
      "metadata": {
        "id": "8O5bLLP-aof-",
        "colab_type": "code",
        "colab": {}
      },
      "source": [
        "from sklearn.linear_model import LogisticRegression\n",
        "from sklearn.naive_bayes import GaussianNB\n",
        "from sklearn.ensemble import RandomForestClassifier\n",
        "from sklearn.tree import DecisionTreeClassifier\n",
        "from sklearn.neighbors import KNeighborsClassifier\n",
        "from sklearn.ensemble import GradientBoostingClassifier\n",
        "\n",
        "from sklearn import metrics\n",
        "import matplotlib.pyplot as plt\n",
        "%matplotlib inline\n",
        "from sklearn.metrics import plot_confusion_matrix\n",
        "from sklearn.metrics import precision_score, recall_score\n",
        "import seaborn as sns"
      ],
      "execution_count": 271,
      "outputs": []
    },
    {
      "cell_type": "code",
      "metadata": {
        "id": "Scmhr3J-FrZL",
        "colab_type": "code",
        "colab": {}
      },
      "source": [
        "model = ['LR','RF','DT','KN','GN','GB']\n",
        "accuracy = {'BOW':[], 'TF-IDF':[]}\n",
        "recall = {'BOW':[], 'TF-IDF':[]}"
      ],
      "execution_count": 272,
      "outputs": []
    },
    {
      "cell_type": "markdown",
      "metadata": {
        "id": "wD_v8Ppb_sXY",
        "colab_type": "text"
      },
      "source": [
        "### Logistic Regression"
      ]
    },
    {
      "cell_type": "code",
      "metadata": {
        "id": "JeXmoYnV-CtQ",
        "colab_type": "code",
        "colab": {}
      },
      "source": [
        "#BOW\n",
        "regressor_LR_bow = LogisticRegression()\n",
        "regressor_LR_bow.fit(bow_train,y_train)\n",
        "y_predict_LR_bow = regressor_LR_bow.predict(bow_test)\n",
        "accuracy['BOW'].append(regressor_LR_bow.score(bow_test,y_test))\n",
        "recall['BOW'].append(recall_score(y_test, y_predict_LR_bow))\n",
        "\n",
        "#TF-IDF\n",
        "regressor_LR_tf = LogisticRegression()\n",
        "regressor_LR_tf.fit(tfdf_train,y_train)\n",
        "y_predict_LR_tf = regressor_LR_tf.predict(tfdf_test)\n",
        "accuracy['TF-IDF'].append(regressor_LR_tf.score(tfdf_test,y_test))\n",
        "recall['TF-IDF'].append(recall_score(y_test, y_predict_LR_tf))"
      ],
      "execution_count": 273,
      "outputs": []
    },
    {
      "cell_type": "code",
      "metadata": {
        "id": "Xo0lOfHhiwvE",
        "colab_type": "code",
        "colab": {
          "base_uri": "https://localhost:8080/",
          "height": 110
        },
        "outputId": "732ebe99-bbbf-44a9-fc78-70f51a9cfe7c"
      },
      "source": [
        "pd.DataFrame(data=[['BOW',regressor_LR_bow.score(bow_test,y_test),recall_score(y_test, y_predict_LR_bow)],\n",
        "                   ['TF-IDF',regressor_LR_tf.score(tfdf_test,y_test),recall_score(y_test, y_predict_LR_tf)]],\n",
        "             columns=['','Accuracy','Recall'])\n"
      ],
      "execution_count": 274,
      "outputs": [
        {
          "output_type": "execute_result",
          "data": {
            "text/html": [
              "<div>\n",
              "<style scoped>\n",
              "    .dataframe tbody tr th:only-of-type {\n",
              "        vertical-align: middle;\n",
              "    }\n",
              "\n",
              "    .dataframe tbody tr th {\n",
              "        vertical-align: top;\n",
              "    }\n",
              "\n",
              "    .dataframe thead th {\n",
              "        text-align: right;\n",
              "    }\n",
              "</style>\n",
              "<table border=\"1\" class=\"dataframe\">\n",
              "  <thead>\n",
              "    <tr style=\"text-align: right;\">\n",
              "      <th></th>\n",
              "      <th></th>\n",
              "      <th>Accuracy</th>\n",
              "      <th>Recall</th>\n",
              "    </tr>\n",
              "  </thead>\n",
              "  <tbody>\n",
              "    <tr>\n",
              "      <th>0</th>\n",
              "      <td>BOW</td>\n",
              "      <td>0.713376</td>\n",
              "      <td>0.955801</td>\n",
              "    </tr>\n",
              "    <tr>\n",
              "      <th>1</th>\n",
              "      <td>TF-IDF</td>\n",
              "      <td>0.613057</td>\n",
              "      <td>0.983425</td>\n",
              "    </tr>\n",
              "  </tbody>\n",
              "</table>\n",
              "</div>"
            ],
            "text/plain": [
              "           Accuracy    Recall\n",
              "0     BOW  0.713376  0.955801\n",
              "1  TF-IDF  0.613057  0.983425"
            ]
          },
          "metadata": {
            "tags": []
          },
          "execution_count": 274
        }
      ]
    },
    {
      "cell_type": "markdown",
      "metadata": {
        "id": "96PcU6VMIf1Y",
        "colab_type": "text"
      },
      "source": [
        "### Random Forest"
      ]
    },
    {
      "cell_type": "code",
      "metadata": {
        "id": "7_XAMo_WIZSJ",
        "colab_type": "code",
        "colab": {}
      },
      "source": [
        "#BOW\n",
        "model_RF_bow = RandomForestClassifier()\n",
        "model_RF_bow.fit(bow_train,y_train)\n",
        "y_predict_RF_bow = model_RF_bow.predict(bow_test)\n",
        "accuracy['BOW'].append(model_RF_bow.score(bow_test,y_test))\n",
        "recall['BOW'].append(recall_score(y_test, y_predict_RF_bow))\n",
        "\n",
        "#TF-IDF\n",
        "model_RF_tf = RandomForestClassifier()\n",
        "model_RF_tf.fit(tfdf_train,y_train)\n",
        "y_predict_RF_tf = model_RF_tf.predict(tfdf_test)\n",
        "accuracy['TF-IDF'].append(model_RF_tf.score(tfdf_test,y_test))\n",
        "recall['TF-IDF'].append(recall_score(y_test, y_predict_RF_tf))"
      ],
      "execution_count": 275,
      "outputs": []
    },
    {
      "cell_type": "code",
      "metadata": {
        "id": "gkHhcJt8kU2X",
        "colab_type": "code",
        "colab": {
          "base_uri": "https://localhost:8080/",
          "height": 110
        },
        "outputId": "002e5c21-50d7-4852-a8ed-56b6dc798a7d"
      },
      "source": [
        "pd.DataFrame(data=[['BOW',model_RF_bow.score(bow_test,y_test),recall_score(y_test, y_predict_RF_bow)],\n",
        "                   ['TF-IDF',model_RF_tf.score(tfdf_test,y_test),recall_score(y_test, y_predict_RF_tf)]],\n",
        "             columns=['','Accuracy','Recall'])"
      ],
      "execution_count": 277,
      "outputs": [
        {
          "output_type": "execute_result",
          "data": {
            "text/html": [
              "<div>\n",
              "<style scoped>\n",
              "    .dataframe tbody tr th:only-of-type {\n",
              "        vertical-align: middle;\n",
              "    }\n",
              "\n",
              "    .dataframe tbody tr th {\n",
              "        vertical-align: top;\n",
              "    }\n",
              "\n",
              "    .dataframe thead th {\n",
              "        text-align: right;\n",
              "    }\n",
              "</style>\n",
              "<table border=\"1\" class=\"dataframe\">\n",
              "  <thead>\n",
              "    <tr style=\"text-align: right;\">\n",
              "      <th></th>\n",
              "      <th></th>\n",
              "      <th>Accuracy</th>\n",
              "      <th>Recall</th>\n",
              "    </tr>\n",
              "  </thead>\n",
              "  <tbody>\n",
              "    <tr>\n",
              "      <th>0</th>\n",
              "      <td>BOW</td>\n",
              "      <td>0.784236</td>\n",
              "      <td>0.806630</td>\n",
              "    </tr>\n",
              "    <tr>\n",
              "      <th>1</th>\n",
              "      <td>TF-IDF</td>\n",
              "      <td>0.730892</td>\n",
              "      <td>0.845304</td>\n",
              "    </tr>\n",
              "  </tbody>\n",
              "</table>\n",
              "</div>"
            ],
            "text/plain": [
              "           Accuracy    Recall\n",
              "0     BOW  0.784236  0.806630\n",
              "1  TF-IDF  0.730892  0.845304"
            ]
          },
          "metadata": {
            "tags": []
          },
          "execution_count": 277
        }
      ]
    },
    {
      "cell_type": "markdown",
      "metadata": {
        "id": "tNAUfbgyJOCQ",
        "colab_type": "text"
      },
      "source": [
        "### Decision Tree"
      ]
    },
    {
      "cell_type": "code",
      "metadata": {
        "id": "yg2RwcIwIbIs",
        "colab_type": "code",
        "colab": {}
      },
      "source": [
        "#BOW\n",
        "model_DT_bow = DecisionTreeClassifier() \n",
        "model_DT_bow.fit(bow_train,y_train)\n",
        "y_predict_DT_bow = model_DT_bow.predict(bow_test)\n",
        "accuracy['BOW'].append(model_DT_bow.score(bow_test,y_test))\n",
        "recall['BOW'].append(recall_score(y_test, y_predict_DT_bow))\n",
        "\n",
        "#TF-IDF\n",
        "model_DT_tf = DecisionTreeClassifier() \n",
        "model_DT_tf.fit(tfdf_train,y_train)\n",
        "y_predict_DT_tf = model_DT_tf.predict(tfdf_test)\n",
        "accuracy['TF-IDF'].append(model_DT_tf.score(tfdf_test,y_test))\n",
        "recall['TF-IDF'].append(recall_score(y_test, y_predict_DT_tf))\n"
      ],
      "execution_count": 278,
      "outputs": []
    },
    {
      "cell_type": "code",
      "metadata": {
        "id": "qA1mDJeHkdCs",
        "colab_type": "code",
        "colab": {
          "base_uri": "https://localhost:8080/",
          "height": 110
        },
        "outputId": "49ae48d4-a06f-45d5-f3b9-6eb8eca007ce"
      },
      "source": [
        "pd.DataFrame(data=[['BOW',model_DT_bow.score(bow_test,y_test),recall_score(y_test, y_predict_DT_bow)],\n",
        "                   ['TF-IDF',model_DT_tf.score(tfdf_test,y_test),recall_score(y_test, y_predict_DT_tf)]],\n",
        "             columns=['','Accuracy','Recall'])"
      ],
      "execution_count": 279,
      "outputs": [
        {
          "output_type": "execute_result",
          "data": {
            "text/html": [
              "<div>\n",
              "<style scoped>\n",
              "    .dataframe tbody tr th:only-of-type {\n",
              "        vertical-align: middle;\n",
              "    }\n",
              "\n",
              "    .dataframe tbody tr th {\n",
              "        vertical-align: top;\n",
              "    }\n",
              "\n",
              "    .dataframe thead th {\n",
              "        text-align: right;\n",
              "    }\n",
              "</style>\n",
              "<table border=\"1\" class=\"dataframe\">\n",
              "  <thead>\n",
              "    <tr style=\"text-align: right;\">\n",
              "      <th></th>\n",
              "      <th></th>\n",
              "      <th>Accuracy</th>\n",
              "      <th>Recall</th>\n",
              "    </tr>\n",
              "  </thead>\n",
              "  <tbody>\n",
              "    <tr>\n",
              "      <th>0</th>\n",
              "      <td>BOW</td>\n",
              "      <td>0.772293</td>\n",
              "      <td>0.745856</td>\n",
              "    </tr>\n",
              "    <tr>\n",
              "      <th>1</th>\n",
              "      <td>TF-IDF</td>\n",
              "      <td>0.755573</td>\n",
              "      <td>0.801105</td>\n",
              "    </tr>\n",
              "  </tbody>\n",
              "</table>\n",
              "</div>"
            ],
            "text/plain": [
              "           Accuracy    Recall\n",
              "0     BOW  0.772293  0.745856\n",
              "1  TF-IDF  0.755573  0.801105"
            ]
          },
          "metadata": {
            "tags": []
          },
          "execution_count": 279
        }
      ]
    },
    {
      "cell_type": "markdown",
      "metadata": {
        "id": "pVN6JcM3Jx3G",
        "colab_type": "text"
      },
      "source": [
        "### K neighbors"
      ]
    },
    {
      "cell_type": "code",
      "metadata": {
        "id": "iWlQYFGpIaZ2",
        "colab_type": "code",
        "colab": {}
      },
      "source": [
        "#BOW\n",
        "model_KN_bow = DecisionTreeClassifier() \n",
        "model_KN_bow.fit(bow_train,y_train)\n",
        "y_predict_KN_bow = model_KN_bow.predict(bow_test)\n",
        "accuracy['BOW'].append(model_KN_bow.score(bow_test,y_test))\n",
        "recall['BOW'].append(recall_score(y_test, y_predict_KN_bow))\n",
        "\n",
        "#TF-IDF\n",
        "model_KN_tf = DecisionTreeClassifier() \n",
        "model_KN_tf.fit(tfdf_train,y_train)\n",
        "y_predict_KN_tf = model_KN_tf.predict(tfdf_test)\n",
        "accuracy['TF-IDF'].append(model_KN_tf.score(tfdf_test,y_test))\n",
        "recall['TF-IDF'].append(recall_score(y_test, y_predict_KN_tf))"
      ],
      "execution_count": 280,
      "outputs": []
    },
    {
      "cell_type": "code",
      "metadata": {
        "id": "bTQK3gchkkav",
        "colab_type": "code",
        "colab": {
          "base_uri": "https://localhost:8080/",
          "height": 110
        },
        "outputId": "e98db630-1946-4d36-c824-de67cfefbf23"
      },
      "source": [
        "pd.DataFrame(data=[['BOW',model_KN_bow.score(bow_test,y_test),recall_score(y_test, y_predict_KN_bow)],\n",
        "                   ['TF-IDF',model_KN_tf.score(tfdf_test,y_test),recall_score(y_test, y_predict_KN_tf)]],\n",
        "             columns=['','Accuracy','Recall'])"
      ],
      "execution_count": 281,
      "outputs": [
        {
          "output_type": "execute_result",
          "data": {
            "text/html": [
              "<div>\n",
              "<style scoped>\n",
              "    .dataframe tbody tr th:only-of-type {\n",
              "        vertical-align: middle;\n",
              "    }\n",
              "\n",
              "    .dataframe tbody tr th {\n",
              "        vertical-align: top;\n",
              "    }\n",
              "\n",
              "    .dataframe thead th {\n",
              "        text-align: right;\n",
              "    }\n",
              "</style>\n",
              "<table border=\"1\" class=\"dataframe\">\n",
              "  <thead>\n",
              "    <tr style=\"text-align: right;\">\n",
              "      <th></th>\n",
              "      <th></th>\n",
              "      <th>Accuracy</th>\n",
              "      <th>Recall</th>\n",
              "    </tr>\n",
              "  </thead>\n",
              "  <tbody>\n",
              "    <tr>\n",
              "      <th>0</th>\n",
              "      <td>BOW</td>\n",
              "      <td>0.778662</td>\n",
              "      <td>0.745856</td>\n",
              "    </tr>\n",
              "    <tr>\n",
              "      <th>1</th>\n",
              "      <td>TF-IDF</td>\n",
              "      <td>0.742834</td>\n",
              "      <td>0.806630</td>\n",
              "    </tr>\n",
              "  </tbody>\n",
              "</table>\n",
              "</div>"
            ],
            "text/plain": [
              "           Accuracy    Recall\n",
              "0     BOW  0.778662  0.745856\n",
              "1  TF-IDF  0.742834  0.806630"
            ]
          },
          "metadata": {
            "tags": []
          },
          "execution_count": 281
        }
      ]
    },
    {
      "cell_type": "markdown",
      "metadata": {
        "id": "DZX9peN-KBd3",
        "colab_type": "text"
      },
      "source": [
        "### GaussianNB"
      ]
    },
    {
      "cell_type": "code",
      "metadata": {
        "id": "0bGvrrRdJ-an",
        "colab_type": "code",
        "colab": {}
      },
      "source": [
        "#BOW\n",
        "model_GN_bow = GaussianNB() \n",
        "model_GN_bow.fit(bow_train,y_train)\n",
        "y_predict_GN_bow = model_GN_bow.predict(bow_test)\n",
        "accuracy['BOW'].append(model_GN_bow.score(bow_test,y_test))\n",
        "recall['BOW'].append(recall_score(y_test, y_predict_GN_bow))\n",
        "\n",
        "#TF-IDF\n",
        "model_GN_tf = DecisionTreeClassifier() \n",
        "model_GN_tf.fit(tfdf_train,y_train)\n",
        "y_predict_GN_tf = model_GN_tf.predict(tfdf_test)\n",
        "accuracy['TF-IDF'].append(model_GN_tf.score(tfdf_test,y_test))\n",
        "recall['TF-IDF'].append(recall_score(y_test, y_predict_GN_tf))"
      ],
      "execution_count": 282,
      "outputs": []
    },
    {
      "cell_type": "code",
      "metadata": {
        "id": "UWsvsJGiktU_",
        "colab_type": "code",
        "colab": {
          "base_uri": "https://localhost:8080/",
          "height": 110
        },
        "outputId": "3c2ecb1e-a090-4d26-81e1-6304bc5e9b2b"
      },
      "source": [
        "pd.DataFrame(data=[['BOW',model_GN_bow.score(bow_test,y_test),recall_score(y_test, y_predict_GN_bow)],\n",
        "                   ['TF-IDF',model_GN_tf.score(tfdf_test,y_test),recall_score(y_test, y_predict_GN_tf)]],\n",
        "             columns=['','Accuracy','Recall'])"
      ],
      "execution_count": 283,
      "outputs": [
        {
          "output_type": "execute_result",
          "data": {
            "text/html": [
              "<div>\n",
              "<style scoped>\n",
              "    .dataframe tbody tr th:only-of-type {\n",
              "        vertical-align: middle;\n",
              "    }\n",
              "\n",
              "    .dataframe tbody tr th {\n",
              "        vertical-align: top;\n",
              "    }\n",
              "\n",
              "    .dataframe thead th {\n",
              "        text-align: right;\n",
              "    }\n",
              "</style>\n",
              "<table border=\"1\" class=\"dataframe\">\n",
              "  <thead>\n",
              "    <tr style=\"text-align: right;\">\n",
              "      <th></th>\n",
              "      <th></th>\n",
              "      <th>Accuracy</th>\n",
              "      <th>Recall</th>\n",
              "    </tr>\n",
              "  </thead>\n",
              "  <tbody>\n",
              "    <tr>\n",
              "      <th>0</th>\n",
              "      <td>BOW</td>\n",
              "      <td>0.804936</td>\n",
              "      <td>0.646409</td>\n",
              "    </tr>\n",
              "    <tr>\n",
              "      <th>1</th>\n",
              "      <td>TF-IDF</td>\n",
              "      <td>0.749204</td>\n",
              "      <td>0.801105</td>\n",
              "    </tr>\n",
              "  </tbody>\n",
              "</table>\n",
              "</div>"
            ],
            "text/plain": [
              "           Accuracy    Recall\n",
              "0     BOW  0.804936  0.646409\n",
              "1  TF-IDF  0.749204  0.801105"
            ]
          },
          "metadata": {
            "tags": []
          },
          "execution_count": 283
        }
      ]
    },
    {
      "cell_type": "markdown",
      "metadata": {
        "id": "rWxw1Bb-DWeb",
        "colab_type": "text"
      },
      "source": [
        "### Gradient Boosting"
      ]
    },
    {
      "cell_type": "code",
      "metadata": {
        "id": "PoSdU8CwDXqp",
        "colab_type": "code",
        "colab": {}
      },
      "source": [
        "#BOW\n",
        "model_GB_bow = GradientBoostingClassifier()\n",
        "model_GB_bow.fit(bow_train,y_train)\n",
        "y_predict_GB_bow = model_GB_bow.predict(bow_test)\n",
        "accuracy['BOW'].append(model_GB_bow.score(bow_test,y_test))\n",
        "recall['BOW'].append(recall_score(y_test, y_predict_GB_bow))\n",
        "\n",
        "#TF-IDF\n",
        "model_GB_tf = DecisionTreeClassifier() \n",
        "model_GB_tf.fit(tfdf_train,y_train)\n",
        "y_predict_GB_tf = model_GB_tf.predict(tfdf_test)\n",
        "accuracy['TF-IDF'].append(model_GB_tf.score(tfdf_test,y_test))\n",
        "recall['TF-IDF'].append(recall_score(y_test, y_predict_GB_tf))"
      ],
      "execution_count": 284,
      "outputs": []
    },
    {
      "cell_type": "code",
      "metadata": {
        "id": "o875jp8Skz3m",
        "colab_type": "code",
        "colab": {
          "base_uri": "https://localhost:8080/",
          "height": 110
        },
        "outputId": "bc61b534-f941-4a15-8339-a7071d9d374a"
      },
      "source": [
        "pd.DataFrame(data=[['BOW',model_GB_bow.score(bow_test,y_test),recall_score(y_test, y_predict_GB_bow)],\n",
        "                   ['TF-IDF',model_GB_tf.score(tfdf_test,y_test),recall_score(y_test, y_predict_GB_tf)]],\n",
        "             columns=['','Accuracy','Recall'])"
      ],
      "execution_count": 285,
      "outputs": [
        {
          "output_type": "execute_result",
          "data": {
            "text/html": [
              "<div>\n",
              "<style scoped>\n",
              "    .dataframe tbody tr th:only-of-type {\n",
              "        vertical-align: middle;\n",
              "    }\n",
              "\n",
              "    .dataframe tbody tr th {\n",
              "        vertical-align: top;\n",
              "    }\n",
              "\n",
              "    .dataframe thead th {\n",
              "        text-align: right;\n",
              "    }\n",
              "</style>\n",
              "<table border=\"1\" class=\"dataframe\">\n",
              "  <thead>\n",
              "    <tr style=\"text-align: right;\">\n",
              "      <th></th>\n",
              "      <th></th>\n",
              "      <th>Accuracy</th>\n",
              "      <th>Recall</th>\n",
              "    </tr>\n",
              "  </thead>\n",
              "  <tbody>\n",
              "    <tr>\n",
              "      <th>0</th>\n",
              "      <td>BOW</td>\n",
              "      <td>0.484076</td>\n",
              "      <td>0.98895</td>\n",
              "    </tr>\n",
              "    <tr>\n",
              "      <th>1</th>\n",
              "      <td>TF-IDF</td>\n",
              "      <td>0.748408</td>\n",
              "      <td>0.78453</td>\n",
              "    </tr>\n",
              "  </tbody>\n",
              "</table>\n",
              "</div>"
            ],
            "text/plain": [
              "           Accuracy   Recall\n",
              "0     BOW  0.484076  0.98895\n",
              "1  TF-IDF  0.748408  0.78453"
            ]
          },
          "metadata": {
            "tags": []
          },
          "execution_count": 285
        }
      ]
    },
    {
      "cell_type": "markdown",
      "metadata": {
        "id": "jJ5pGCGH0aJC",
        "colab_type": "text"
      },
      "source": [
        "# Evaluation\n"
      ]
    },
    {
      "cell_type": "code",
      "metadata": {
        "id": "41E1-wVuKMIp",
        "colab_type": "code",
        "colab": {
          "base_uri": "https://localhost:8080/",
          "height": 233
        },
        "outputId": "f5122fb2-67fc-434d-bbb1-d47d6f5023bc"
      },
      "source": [
        "data_bow = {'model':model,'accuracy':accuracy['BOW'],'recall':recall['BOW']}\n",
        "compare_models_bow = pd.DataFrame(data_bow)\n",
        "compare_models_bow"
      ],
      "execution_count": 286,
      "outputs": [
        {
          "output_type": "execute_result",
          "data": {
            "text/html": [
              "<div>\n",
              "<style scoped>\n",
              "    .dataframe tbody tr th:only-of-type {\n",
              "        vertical-align: middle;\n",
              "    }\n",
              "\n",
              "    .dataframe tbody tr th {\n",
              "        vertical-align: top;\n",
              "    }\n",
              "\n",
              "    .dataframe thead th {\n",
              "        text-align: right;\n",
              "    }\n",
              "</style>\n",
              "<table border=\"1\" class=\"dataframe\">\n",
              "  <thead>\n",
              "    <tr style=\"text-align: right;\">\n",
              "      <th></th>\n",
              "      <th>model</th>\n",
              "      <th>accuracy</th>\n",
              "      <th>recall</th>\n",
              "    </tr>\n",
              "  </thead>\n",
              "  <tbody>\n",
              "    <tr>\n",
              "      <th>0</th>\n",
              "      <td>LR</td>\n",
              "      <td>0.713376</td>\n",
              "      <td>0.955801</td>\n",
              "    </tr>\n",
              "    <tr>\n",
              "      <th>1</th>\n",
              "      <td>RF</td>\n",
              "      <td>0.784236</td>\n",
              "      <td>0.806630</td>\n",
              "    </tr>\n",
              "    <tr>\n",
              "      <th>2</th>\n",
              "      <td>DT</td>\n",
              "      <td>0.772293</td>\n",
              "      <td>0.745856</td>\n",
              "    </tr>\n",
              "    <tr>\n",
              "      <th>3</th>\n",
              "      <td>KN</td>\n",
              "      <td>0.778662</td>\n",
              "      <td>0.745856</td>\n",
              "    </tr>\n",
              "    <tr>\n",
              "      <th>4</th>\n",
              "      <td>GN</td>\n",
              "      <td>0.804936</td>\n",
              "      <td>0.646409</td>\n",
              "    </tr>\n",
              "    <tr>\n",
              "      <th>5</th>\n",
              "      <td>GB</td>\n",
              "      <td>0.484076</td>\n",
              "      <td>0.988950</td>\n",
              "    </tr>\n",
              "  </tbody>\n",
              "</table>\n",
              "</div>"
            ],
            "text/plain": [
              "  model  accuracy    recall\n",
              "0    LR  0.713376  0.955801\n",
              "1    RF  0.784236  0.806630\n",
              "2    DT  0.772293  0.745856\n",
              "3    KN  0.778662  0.745856\n",
              "4    GN  0.804936  0.646409\n",
              "5    GB  0.484076  0.988950"
            ]
          },
          "metadata": {
            "tags": []
          },
          "execution_count": 286
        }
      ]
    },
    {
      "cell_type": "code",
      "metadata": {
        "id": "WmVWIvZ7Lep0",
        "colab_type": "code",
        "colab": {
          "base_uri": "https://localhost:8080/",
          "height": 281
        },
        "outputId": "3bc47eb9-67e0-41dd-bd86-c31a8fc020a9"
      },
      "source": [
        "acc_bow = plt.bar(compare_models_bow['model'],compare_models_bow['recall'])\n",
        "plt.title('Bag of Words')\n",
        "plt.show()"
      ],
      "execution_count": 287,
      "outputs": [
        {
          "output_type": "display_data",
          "data": {
            "image/png": "[encoded data removed]",
            "text/plain": [
              "<Figure size 432x288 with 1 Axes>"
            ]
          },
          "metadata": {
            "tags": [],
            "needs_background": "light"
          }
        }
      ]
    },
    {
      "cell_type": "code",
      "metadata": {
        "id": "_eRGpRRcsovY",
        "colab_type": "code",
        "colab": {
          "base_uri": "https://localhost:8080/",
          "height": 233
        },
        "outputId": "88b54ebd-53de-4dee-f4bb-97f8dbcc84a8"
      },
      "source": [
        "data_tf = {'model':model,'accuracy':accuracy['TF-IDF'],'recall':recall['TF-IDF']}\n",
        "compare_models_tf = pd.DataFrame(data_tf)\n",
        "compare_models_tf"
      ],
      "execution_count": 288,
      "outputs": [
        {
          "output_type": "execute_result",
          "data": {
            "text/html": [
              "<div>\n",
              "<style scoped>\n",
              "    .dataframe tbody tr th:only-of-type {\n",
              "        vertical-align: middle;\n",
              "    }\n",
              "\n",
              "    .dataframe tbody tr th {\n",
              "        vertical-align: top;\n",
              "    }\n",
              "\n",
              "    .dataframe thead th {\n",
              "        text-align: right;\n",
              "    }\n",
              "</style>\n",
              "<table border=\"1\" class=\"dataframe\">\n",
              "  <thead>\n",
              "    <tr style=\"text-align: right;\">\n",
              "      <th></th>\n",
              "      <th>model</th>\n",
              "      <th>accuracy</th>\n",
              "      <th>recall</th>\n",
              "    </tr>\n",
              "  </thead>\n",
              "  <tbody>\n",
              "    <tr>\n",
              "      <th>0</th>\n",
              "      <td>LR</td>\n",
              "      <td>0.613057</td>\n",
              "      <td>0.983425</td>\n",
              "    </tr>\n",
              "    <tr>\n",
              "      <th>1</th>\n",
              "      <td>RF</td>\n",
              "      <td>0.730892</td>\n",
              "      <td>0.845304</td>\n",
              "    </tr>\n",
              "    <tr>\n",
              "      <th>2</th>\n",
              "      <td>DT</td>\n",
              "      <td>0.755573</td>\n",
              "      <td>0.801105</td>\n",
              "    </tr>\n",
              "    <tr>\n",
              "      <th>3</th>\n",
              "      <td>KN</td>\n",
              "      <td>0.742834</td>\n",
              "      <td>0.806630</td>\n",
              "    </tr>\n",
              "    <tr>\n",
              "      <th>4</th>\n",
              "      <td>GN</td>\n",
              "      <td>0.749204</td>\n",
              "      <td>0.801105</td>\n",
              "    </tr>\n",
              "    <tr>\n",
              "      <th>5</th>\n",
              "      <td>GB</td>\n",
              "      <td>0.748408</td>\n",
              "      <td>0.784530</td>\n",
              "    </tr>\n",
              "  </tbody>\n",
              "</table>\n",
              "</div>"
            ],
            "text/plain": [
              "  model  accuracy    recall\n",
              "0    LR  0.613057  0.983425\n",
              "1    RF  0.730892  0.845304\n",
              "2    DT  0.755573  0.801105\n",
              "3    KN  0.742834  0.806630\n",
              "4    GN  0.749204  0.801105\n",
              "5    GB  0.748408  0.784530"
            ]
          },
          "metadata": {
            "tags": []
          },
          "execution_count": 288
        }
      ]
    },
    {
      "cell_type": "code",
      "metadata": {
        "id": "6axfnTHgs9xv",
        "colab_type": "code",
        "colab": {
          "base_uri": "https://localhost:8080/",
          "height": 281
        },
        "outputId": "b77c73e6-7a1e-4079-ebb8-586a225b453c"
      },
      "source": [
        "acc_bow = plt.bar(compare_models_tf['model'],compare_models_tf['recall'])\n",
        "plt.title('TF-IDF')\n",
        "plt.show()"
      ],
      "execution_count": 289,
      "outputs": [
        {
          "output_type": "display_data",
          "data": {
            "image/png": "[encoded data removed]",
            "text/plain": [
              "<Figure size 432x288 with 1 Axes>"
            ]
          },
          "metadata": {
            "tags": [],
            "needs_background": "light"
          }
        }
      ]
    },
    {
      "cell_type": "markdown",
      "metadata": {
        "id": "Bz_K-EP1rqxc",
        "colab_type": "text"
      },
      "source": [
        "Keeping both recall value and accuracy in mind our best model is Logistic Regression with TF-IDF\n"
      ]
    },
    {
      "cell_type": "code",
      "metadata": {
        "id": "MFDAG2U_aogI",
        "colab_type": "code",
        "colab": {
          "base_uri": "https://localhost:8080/",
          "height": 297
        },
        "outputId": "4a7aab50-b0b0-4f52-b4d1-d531ea47255c"
      },
      "source": [
        "from sklearn.metrics import plot_confusion_matrix\n",
        "plot_confusion_matrix(regressor_LR_bow,bow_test,y_test)"
      ],
      "execution_count": 291,
      "outputs": [
        {
          "output_type": "execute_result",
          "data": {
            "text/plain": [
              "<sklearn.metrics._plot.confusion_matrix.ConfusionMatrixDisplay at 0x7f8ea37ea390>"
            ]
          },
          "metadata": {
            "tags": []
          },
          "execution_count": 291
        },
        {
          "output_type": "display_data",
          "data": {
            "image/png": "[encoded data removed]",
            "text/plain": [
              "<Figure size 432x288 with 2 Axes>"
            ]
          },
          "metadata": {
            "tags": [],
            "needs_background": "light"
          }
        }
      ]
    },
    {
      "cell_type": "code",
      "metadata": {
        "id": "r5tgB06aaogQ",
        "colab_type": "code",
        "colab": {
          "base_uri": "https://localhost:8080/",
          "height": 455
        },
        "outputId": "ac23248d-21b2-4673-ae44-af5b6dacba3d"
      },
      "source": [
        "from sklearn.metrics import precision_recall_curve\n",
        "\n",
        "# getting the probabilities of our predictions\n",
        "y_scores = regressor_LR_bow.predict_proba(bow_test)\n",
        "y_scores = y_scores[:,1]\n",
        "\n",
        "precision, recall, threshold = precision_recall_curve(y_test, y_scores)\n",
        "def plot_precision_and_recall(precision, recall, threshold):\n",
        "    plt.plot(threshold, precision[:-1], \"r-\", label=\"precision\", linewidth=5)\n",
        "    plt.plot(threshold, recall[:-1], \"b\", label=\"recall\", linewidth=5)\n",
        "    plt.xlabel(\"threshold\", fontsize=19)\n",
        "    plt.legend(loc=\"upper right\", fontsize=19)\n",
        "    plt.ylim([0, 1])\n",
        "\n",
        "plt.figure(figsize=(14, 7))\n",
        "plot_precision_and_recall(precision, recall, threshold)"
      ],
      "execution_count": 292,
      "outputs": [
        {
          "output_type": "display_data",
          "data": {
            "image/png": "[encoded data removed]",
            "text/plain": [
              "<Figure size 1008x504 with 1 Axes>"
            ]
          },
          "metadata": {
            "tags": [],
            "needs_background": "light"
          }
        }
      ]
    },
    {
      "cell_type": "code",
      "metadata": {
        "id": "zkaRG8LEaog1",
        "colab_type": "code",
        "colab": {}
      },
      "source": [
        "from sklearn.metrics import roc_curve\n"
      ],
      "execution_count": 265,
      "outputs": []
    },
    {
      "cell_type": "code",
      "metadata": {
        "id": "93B0h8x17J4j",
        "colab_type": "code",
        "colab": {
          "base_uri": "https://localhost:8080/",
          "height": 543
        },
        "outputId": "fa18ce98-9742-4b30-e160-ffa874510b00"
      },
      "source": [
        "LR_fpr, LR_tpr, threshold = roc_curve(y_test,y_predict_LR_tf)\n",
        "RF_fpr, RF_tpr, threshold = roc_curve(y_test, y_predict_RF_bow)\n",
        "DT_fpr, DT_tpr, thresold = roc_curve(y_test, y_predict_DT_bow)\n",
        "KN_fpr, KN_tpr, thresold = roc_curve(y_test, y_predict_KN_bow)\n",
        "GB_fpr, GB_tpr, threshold = roc_curve(y_test, y_predict_GB_tf)\n",
        "GN_fpr, GN_tpr, threshold = roc_curve(y_test, y_predict_GN_tf)\n",
        "\n",
        "\n",
        "def graph_roc_curve_multiple(LR_fpr, LR_tpr, RF_fpr, RF_tpr, DT_fpr, DT_tpr, KN_fpr, KN_tpr, GB_fpr, GB_tpr, GN_fpr, GN_tpr,):\n",
        "    plt.figure(figsize=(8,8))\n",
        "    plt.title('ROC Curve \\n Classifiers', fontsize=18)\n",
        "    plt.plot(RF_fpr, RF_tpr, label='random forest')\n",
        "    plt.plot(LR_fpr, LR_tpr, label='Logistic regression')\n",
        "    plt.plot(GB_fpr, GB_tpr, label='Gradient Boosting')\n",
        "    plt.plot(KN_fpr, KN_tpr, label='KNeighbors')\n",
        "    plt.plot(DT_fpr, DT_tpr, label='decision tree')\n",
        "    plt.plot(GN_fpr, GN_tpr, label='GaussianNB')\n",
        "    plt.plot([0, 1], [0, 1], 'k--')\n",
        "    plt.axis([0, 1, 0, 1])\n",
        "    plt.xlabel('False Positive Rate', fontsize=16)\n",
        "    plt.ylabel('True Positive Rate', fontsize=16)\n",
        "    plt.annotate('Minimum ROC Score of 50% \\n (This is the minimum score to get)', xy=(0.5, 0.5), xytext=(0.6, 0.3),\n",
        "                arrowprops=dict(facecolor='#6E726D', shrink=0.05),\n",
        "                )\n",
        "    plt.legend()\n",
        "    \n",
        "graph_roc_curve_multiple(RF_fpr, RF_tpr, LR_fpr, LR_tpr,GB_fpr, GB_tpr, KN_fpr, KN_tpr, DT_fpr, DT_tpr,GN_fpr, GN_tpr)\n",
        "plt.show()"
      ],
      "execution_count": 293,
      "outputs": [
        {
          "output_type": "display_data",
          "data": {
            "image/png": "[encoded data removed]",
            "text/plain": [
              "<Figure size 576x576 with 1 Axes>"
            ]
          },
          "metadata": {
            "tags": [],
            "needs_background": "light"
          }
        }
      ]
    },
    {
      "cell_type": "code",
      "metadata": {
        "id": "hqh4s8ui7Qjg",
        "colab_type": "code",
        "colab": {
          "base_uri": "https://localhost:8080/",
          "height": 139
        },
        "outputId": "ffcf88a0-4ab6-4264-d3e3-b7843d5283fc"
      },
      "source": [
        "from sklearn.metrics import roc_auc_score\n",
        "lr_a_score = roc_auc_score(y_test, regressor_LR_tf.predict_proba(tfdf_test)[:,1])\n",
        "rf_a_score = roc_auc_score(y_test, model_RF_tf.predict_proba(tfdf_test)[:,1])\n",
        "gb_a_score = roc_auc_score(y_test, model_GB_tf.predict_proba(tfdf_test)[:,1])\n",
        "kn_a_score = roc_auc_score(y_test, model_KN_tf.predict_proba(tfdf_test)[:,1])\n",
        "dt_a_score = roc_auc_score(y_test, model_DT_tf.predict_proba(tfdf_test)[:,1])\n",
        "gn_a_score = roc_auc_score(y_test, model_GN_tf.predict_proba(tfdf_test)[:,1])\n",
        "\n",
        "print(\"ROC-AUC-Score:\")\n",
        "print(\"LR:\", lr_a_score)\n",
        "print(\"RF:\", rf_a_score)\n",
        "print(\"GB:\", gb_a_score)\n",
        "print(\"KN:\", kn_a_score)\n",
        "print(\"DT:\", dt_a_score)\n",
        "print(\"GN:\", gn_a_score)\n"
      ],
      "execution_count": 297,
      "outputs": [
        {
          "output_type": "stream",
          "text": [
            "ROC-AUC-Score:\n",
            "LR: 0.9248284723114479\n",
            "RF: 0.8957497109083901\n",
            "GB: 0.7789618399074907\n",
            "KN: 0.7856019529744315\n",
            "DT: 0.7900706668379802\n",
            "GN: 0.7845997687267121\n"
          ],
          "name": "stdout"
        }
      ]
    },
    {
      "cell_type": "code",
      "metadata": {
        "id": "TpJrS5c07Zaj",
        "colab_type": "code",
        "colab": {}
      },
      "source": [
        ""
      ],
      "execution_count": null,
      "outputs": []
    }
  ]
}